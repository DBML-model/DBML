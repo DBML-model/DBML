{
 "cells": [
  {
   "cell_type": "code",
   "execution_count": 1,
   "metadata": {},
   "outputs": [],
   "source": [
    "import torch\n",
    "from torch.autograd import Variable\n",
    "import torch.nn as nn\n",
    "import torch.nn.functional as F\n",
    "import numpy as np\n",
    "import time\n",
    "import pickle\n",
    "from torch.utils.data import DataLoader, Dataset"
   ]
  },
  {
   "cell_type": "code",
   "execution_count": 2,
   "metadata": {},
   "outputs": [],
   "source": [
    "import random\n",
    "def setup_seed(seed):\n",
    "     torch.manual_seed(seed)\n",
    "     torch.cuda.manual_seed_all(seed)\n",
    "     np.random.seed(seed)\n",
    "     random.seed(seed)\n",
    "     torch.backends.cudnn.deterministic = True\n",
    "# 设置随机数种子\n",
    "setup_seed(7)"
   ]
  },
  {
   "cell_type": "code",
   "execution_count": 3,
   "metadata": {},
   "outputs": [],
   "source": [
    "from file_utils.mydata import MyData\n",
    "from models.DBML_time import PSM\n",
    "from models.DBML_storage import PSM_st"
   ]
  },
  {
   "cell_type": "code",
   "execution_count": null,
   "metadata": {},
   "outputs": [],
   "source": [
    "data_name = 'Cell_Phones_and_Accessories'"
   ]
  },
  {
   "cell_type": "code",
   "execution_count": 4,
   "metadata": {},
   "outputs": [],
   "source": [
    "with open('input_data/dataset_time_'+data_name+'.bin', 'rb') as f:\n",
    "    datasets = pickle.load(f)"
   ]
  },
  {
   "cell_type": "code",
   "execution_count": 5,
   "metadata": {},
   "outputs": [
    {
     "data": {
      "text/plain": [
       "(10429, 27879, 81388)"
      ]
     },
     "execution_count": 5,
     "metadata": {},
     "output_type": "execute_result"
    }
   ],
   "source": [
    "'''\n",
    "dataset statistic\n",
    "'''\n",
    "datasets.productNum, datasets.userNum, datasets.wordNum"
   ]
  },
  {
   "cell_type": "markdown",
   "metadata": {},
   "source": [
    "# 测试模型"
   ]
  },
  {
   "cell_type": "code",
   "execution_count": 6,
   "metadata": {},
   "outputs": [],
   "source": [
    "'''\n",
    "实验参数\n",
    "'''\n",
    "embedding_dim = 50\n",
    "out_size = 10\n",
    "batch_size = 256\n",
    "neg_sample_num = data_set.neg_sample_num\n",
    "dataLen = len(data_set.train_data)\n",
    "batch_num = int(dataLen/batch_size)\n",
    "full_len = batch_num*batch_size\n",
    "time_bin_num = len(data_set.time_data)\n",
    "total_epoch = 2\n",
    "device  = torch.device(\"cuda\" if torch.cuda.is_available() else \"cpu\")"
   ]
  },
  {
   "cell_type": "code",
   "execution_count": 7,
   "metadata": {},
   "outputs": [],
   "source": [
    "'''\n",
    "记录每个时间段的均值方差 初始化都为N(0, I) 第0个时间永远是N(0, I)\n",
    "'''\n",
    "user_time_latent = []\n",
    "product_time_latent = []\n",
    "word_time_latent = []\n",
    "for t in range(time_bin_num+1):\n",
    "    user_time_latent.append(dict())\n",
    "    user_time_latent[t] = dict(zip(\\\n",
    "                                    list(datasets.id2user.keys()),[\\\n",
    "                                            [torch.zeros(embedding_dim), torch.ones(embedding_dim), 0.] for k in datasets.id2user.keys()\n",
    "                                            ]\\\n",
    "                                  ))\n",
    "    product_time_latent.append(dict())\n",
    "    product_time_latent[t] = dict(zip(\\\n",
    "                                    list(datasets.id2product.keys()),[\\\n",
    "                                            [torch.zeros(embedding_dim), torch.ones(embedding_dim), 0.] for k in datasets.id2product.keys()\n",
    "                                            ]\\\n",
    "                                  ))\n",
    "    word_time_latent.append(dict())\n",
    "    word_time_latent[t] = dict(zip(\\\n",
    "                                    list(datasets.id2word.keys()),[\\\n",
    "                                            [torch.zeros(embedding_dim), torch.ones(embedding_dim), 0.] for k in datasets.id2word.keys()\n",
    "                                            ]\\\n",
    "                                  ))"
   ]
  },
  {
   "cell_type": "code",
   "execution_count": 8,
   "metadata": {},
   "outputs": [
    {
     "name": "stdout",
     "output_type": "stream",
     "text": [
      "CPU times: user 132 ms, sys: 20 ms, total: 152 ms\n",
      "Wall time: 149 ms\n"
     ]
    }
   ],
   "source": [
    "'''\n",
    "    def __init__(self, user_size, item_size, word_size, query_size, embedding_dim,\\\n",
    "                 max_query_len, max_review_len, batch_size, \\\n",
    "                 neg_num=5,sample_num=1,transfer_hidden_dim=100,\\\n",
    "                 sigma_parameter=1e-7, kl_parameter=1e-7,device=torch.device('cpu')):\n",
    "'''\n",
    "model = PSM(datasets.userNum, datasets.productNum, datasets.wordNum, datasets.queryNum, \\\n",
    "            embedding_dim, datasets.max_query_len, datasets.max_review_len,\\\n",
    "            batch_size, device=device)"
   ]
  },
  {
   "cell_type": "code",
   "execution_count": 9,
   "metadata": {},
   "outputs": [],
   "source": [
    "\n",
    "'''\n",
    "pos\n",
    "0     1        2          3         4       5        6\n",
    "(uid, pid_pos, qids_pos, len_pos, text_ids, len_r, time_bin_pos)\n",
    "neg\n",
    "neg_item,neg_user_word,neg_item_word\n",
    "'''\n",
    "pos, neg = datasets[0]\n",
    "\n",
    "# forward(self, user, query, query_len, item_pos, items_neg):\n",
    "\n",
    "\n",
    "u = torch.tensor(pos[0]).view(1,1)\n",
    "p = torch.tensor(pos[1]).view(1,1)\n",
    "q = torch.tensor(pos[2]).view(1,-1)\n",
    "ql = torch.tensor(pos[3]).view(1,-1).float()\n",
    "r = torch.tensor(pos[4]).view(1,-1)\n",
    "rl = torch.tensor(pos[5]).view(1,-1)\n",
    "ineg = torch.tensor(neg[0]).view(1,-1)\n",
    "wneg = torch.tensor(neg[1]).view(1,-1)\n",
    "time_bin = torch.tensor(pos[6]).view(1,-1)\n",
    "\n",
    "\n",
    "\n",
    "prior_u_mean = user_time_latent[pos[6]][pos[0]][0].view(1,-1)\n",
    "prior_u_std = user_time_latent[pos[6]][pos[0]][1].view(1,-1)\n",
    "prior_i_mean = product_time_latent[pos[6]][pos[1]][0].view(1,-1)\n",
    "prior_i_std = product_time_latent[pos[6]][pos[1]][1].view(1,-1)\n",
    "prior_word_mean = torch.cat(\\\n",
    "                tuple(word_time_latent[pos[6]][i][0].view(1,-1) for i in pos[4]) , dim=0\\\n",
    "                             ).view(1,-1,embedding_dim)\n",
    "prior_word_std = torch.cat(\\\n",
    "                tuple(word_time_latent[pos[6]][i][1].view(1,-1) for i in pos[4]) , dim=0\\\n",
    "                             ).view(1,-1,embedding_dim)\n",
    "\n",
    "prior_i_mean_neg = torch.cat(tuple(product_time_latent[pos[6]][i][0].view(1,-1) for i in neg[0]) , dim=0).view(1,-1,embedding_dim)\n",
    "prior_i_std_neg = torch.cat( tuple(product_time_latent[pos[6]][i][1].view(1,-1) for i in neg[0]) , dim=0).view(1,-1,embedding_dim)\n",
    "prior_word_mean_neg = torch.cat(\\\n",
    "                tuple(word_time_latent[pos[6]][i][0].view(1,-1) for i in neg[1]) , dim=0\\\n",
    "                             ).view(1,-1,embedding_dim)\n",
    "prior_word_std_neg = torch.cat(\\\n",
    "                tuple(word_time_latent[pos[6]][i][1].view(1,-1) for i in neg[1]) , dim=0\\\n",
    "                             ).view(1,-1,embedding_dim)\n"
   ]
  },
  {
   "cell_type": "code",
   "execution_count": 10,
   "metadata": {},
   "outputs": [
    {
     "data": {
      "text/plain": [
       "(torch.Size([1, 5]),\n",
       " torch.Size([1, 5]),\n",
       " torch.Size([1, 5, 50]),\n",
       " torch.Size([1, 50]),\n",
       " torch.Size([1, 36, 50]),\n",
       " tensor([[3.]]))"
      ]
     },
     "execution_count": 10,
     "metadata": {},
     "output_type": "execute_result"
    }
   ],
   "source": [
    "ineg.shape,wneg.shape,prior_i_mean_neg.shape,prior_u_mean.shape,prior_word_mean.shape,ql"
   ]
  },
  {
   "cell_type": "code",
   "execution_count": null,
   "metadata": {},
   "outputs": [],
   "source": []
  },
  {
   "cell_type": "code",
   "execution_count": 13,
   "metadata": {},
   "outputs": [
    {
     "data": {
      "text/plain": [
       "tensor(9.4041, grad_fn=<AddBackward0>)"
      ]
     },
     "execution_count": 13,
     "metadata": {},
     "output_type": "execute_result"
    }
   ],
   "source": [
    "'''\n",
    "def forward(self, user, query, query_len, item_pos, items_neg,\\\n",
    "            prior_user_mean, prior_user_std,\\\n",
    "            prior_product_mean, prior_product_std,\\\n",
    "            prior_product_neg_mean, prior_product_neg_std,\\\n",
    "            word, word_neg, word_len,\\\n",
    "            prior_word_mean, prior_word_std,\\\n",
    "            prior_word_neg_mean, prior_word_neg_std):\n",
    "            \n",
    "return user_mean, user_std, query, \\\n",
    "        item_mean_pos, item_std_pos,\\\n",
    "        items_mean_neg, items_std_neg, \\\n",
    "        user_sample, product_sample, product_sample_neg, \\\n",
    "        loss, dis_pos, dis_neg\n",
    "'''\n",
    "\n",
    "user_mean, user_std, query, \\\n",
    "item_mean_pos, item_std_pos,\\\n",
    "items_mean_neg, items_std_neg, \\\n",
    "user_sample, product_sample, product_sample_neg, \\\n",
    "loss, dis_pos, dis_neg,\\\n",
    "word_mean_pos, word_std_pos, word_mean_neg, word_std_neg = model(u, q, ql, p, ineg,\\\n",
    "      prior_u_mean, prior_u_std,\\\n",
    "      prior_i_mean, prior_i_std,\\\n",
    "      prior_i_mean_neg, prior_i_std_neg,\\\n",
    "      r, wneg, rl,\\\n",
    "      prior_word_mean, prior_word_std,\\\n",
    "      prior_word_mean_neg, prior_word_std_neg, 'd'\n",
    "     )\n",
    "loss"
   ]
  },
  {
   "cell_type": "code",
   "execution_count": 14,
   "metadata": {},
   "outputs": [
    {
     "data": {
      "text/plain": [
       "torch.Size([1, 36, 50])"
      ]
     },
     "execution_count": 14,
     "metadata": {},
     "output_type": "execute_result"
    }
   ],
   "source": [
    "word_mean_pos.shape"
   ]
  },
  {
   "cell_type": "code",
   "execution_count": 15,
   "metadata": {},
   "outputs": [
    {
     "data": {
      "text/plain": [
       "((<AddBackward0 at 0x7f8988f6b588>, 0), (<MulBackward0 at 0x7f8988f6ba20>, 0))"
      ]
     },
     "execution_count": 15,
     "metadata": {},
     "output_type": "execute_result"
    }
   ],
   "source": [
    "loss.grad_fn.next_functions"
   ]
  },
  {
   "cell_type": "code",
   "execution_count": 16,
   "metadata": {},
   "outputs": [],
   "source": [
    "loss.backward()"
   ]
  },
  {
   "cell_type": "code",
   "execution_count": 17,
   "metadata": {},
   "outputs": [
    {
     "data": {
      "text/plain": [
       "tensor(9.4041, grad_fn=<AddBackward0>)"
      ]
     },
     "execution_count": 17,
     "metadata": {},
     "output_type": "execute_result"
    }
   ],
   "source": [
    "loss"
   ]
  },
  {
   "cell_type": "markdown",
   "metadata": {},
   "source": [
    "# 训练模型"
   ]
  },
  {
   "cell_type": "code",
   "execution_count": 7,
   "metadata": {},
   "outputs": [],
   "source": [
    "def dcg_at_k(r, k, method=0):\n",
    "    r = np.asfarray(r)[:k]\n",
    "    if r.size:\n",
    "        if method == 0:\n",
    "            return r[0] + np.sum(r[1:] / np.log2(np.arange(2, r.size + 1)))\n",
    "        elif method == 1:\n",
    "            return np.sum(r / np.log2(np.arange(2, r.size + 2)))\n",
    "        else:\n",
    "            raise ValueError('method must be 0 or 1.')\n",
    "    return 0.\n",
    "def mean_reciprocal_rank(r):\n",
    "    return np.sum(r / np.arange(1, r.size + 1))\n",
    "def hit_rate(r):\n",
    "    if (np.sum(r) >= 0.9):\n",
    "        return 1\n",
    "    else:\n",
    "        return 0\n",
    "def get_query_laten(q_linear,query, query_len, max_query_len):\n",
    "    '''\n",
    "    input size: (batch, maxQueryLen)\n",
    "    对query处理使用函数\n",
    "    tanh(W*(mean(Q))+b)\n",
    "    '''\n",
    "    query_len = torch.tensor(query_len).view(1,-1).float()\n",
    "    # size: ((batch, maxQueryLen))) ---> (batch, len(query[i]), embedding)\n",
    "    # query len mask 使得padding的向量为0\n",
    "    len_mask = torch.tensor([ [1.]*int(i.item())+[0.]*(max_query_len-int(i.item())) for i in query_len]).unsqueeze(2)\n",
    "    query = query.mul(len_mask)\n",
    "    query = query.sum(dim=1).div(query_len)\n",
    "    query = q_linear(query).tanh()\n",
    "\n",
    "    return query"
   ]
  },
  {
   "cell_type": "code",
   "execution_count": 8,
   "metadata": {},
   "outputs": [],
   "source": [
    "#.  0    1         2        3        4         5       6\n",
    "# (uid, pid_pos, qids_pos, len_pos, text_ids, len_r, time_bin_pos)\n",
    "def get_all_eval(time_bin_num, datasets, embedding_dim, product_time_latent,\\\n",
    "                 start_time_bin,user_time_latent,word_time_latent,word_trans_linear):\n",
    "    all_p_m = torch.empty(time_bin_num+1, datasets.productNum, embedding_dim)\n",
    "    print()\n",
    "    for ii in range(time_bin_num+1):\n",
    "        k = 0\n",
    "        for i in product_time_latent[ii].values():\n",
    "            all_p_m[ii][k] = i[0]\n",
    "            k+=1\n",
    "    eval_dataset = datasets.test_data\n",
    "    test_counter = 0\n",
    "    all_hr = 0\n",
    "    all_ndcg = 0\n",
    "    all_mrr = 0\n",
    "    for ii in range(len(eval_dataset)):\n",
    "        td = eval_dataset[ii]\n",
    "        '''\n",
    "        应该定义一个训练过的user， 这里简单的先取训练过的时间段的用户\n",
    "        '''\n",
    "        if (td[6] >= 17 and td[0] in used_u):\n",
    "            user = user_time_latent[td[6]+1][td[0]][0]\n",
    "            query_len = td[3]\n",
    "            query = torch.cat(tuple([word_time_latent[td[6]+1][i][0] for i in td[2]])).view(1,-1,embedding_dim)\n",
    "            query = get_query_laten(word_trans_linear[td[6]+1], query, query_len, datasets.max_query_len)\n",
    "            user_query = user+query\n",
    "    #         uq_i = torch.empty(datasets.productNum)\n",
    "            user_query.squeeze_(0)\n",
    "            uq_i = (user_query - all_p_m[td[6]+1]).norm(2, dim=1)*(-1.)\n",
    "    #         for i in range(datasets.productNum):\n",
    "    #             p_mean = product_time_latent[td[6]+1][i][0]\n",
    "    #             uq_i[i] = -1*(user_query-p_mean).norm(2).item()\n",
    "            ranks_order = uq_i.topk(20)[1]\n",
    "            r = torch.eq(ranks_order, td[1]).numpy()\n",
    "            all_hr += hit_rate(r)\n",
    "            all_mrr += mean_reciprocal_rank(r)\n",
    "            all_ndcg += dcg_at_k(r, 20, 1)\n",
    "            test_counter += 1\n",
    "    hr = all_hr / float(test_counter)\n",
    "    mrr = all_mrr / float(test_counter)\n",
    "    ndcg = all_ndcg / float(test_counter)\n",
    "    return hr, mrr, ndcg\n",
    "def get_all_eval_2(time_bin_num, datasets, embedding_dim, product_time_latent,\\\n",
    "                 start_time_bin,user_time_latent,word_time_latent,word_trans_linear):\n",
    "    all_p_m = torch.empty(time_bin_num+1, datasets.productNum, embedding_dim)\n",
    "    for ii in range(time_bin_num+1):\n",
    "        k = 0\n",
    "        for i in product_time_latent[ii].values():\n",
    "            all_p_m[ii][k] = i[0]\n",
    "            k+=1\n",
    "    eval_dataset = datasets.test_data\n",
    "    test_counter = 0\n",
    "    all_hr = 0\n",
    "    all_ndcg = 0\n",
    "    all_mrr = 0\n",
    "    for ii in range(len(eval_dataset)):\n",
    "        td = eval_dataset[ii]\n",
    "        '''\n",
    "        应该定义一个训练过的user， 这里简单的先取训练过的时间段的用户\n",
    "        '''\n",
    "        if (td[6] >= 17 and td[0] in used_u):\n",
    "            user = user_time_latent[td[6]+1][td[0]][0]\n",
    "    #         product = product_time_latent[td[6]+1][td[1]][0]\n",
    "            query_len = td[3]\n",
    "            query = torch.cat(tuple([word_time_latent[td[6]+1][i][0] for i in td[2]])).view(1,-1,embedding_dim)\n",
    "            query = get_query_laten(word_trans_linear[td[6]+1], query, query_len, datasets.max_query_len)\n",
    "            user_query = user+query\n",
    "    #         uq_i = torch.empty(datasets.productNum)\n",
    "            user_query = user_query.view(-1,1)\n",
    "            uq_i = all_p_m[td[6]+1].mm(user_query).view(-1)        \n",
    "    #         for i in range(datasets.productNum):\n",
    "    #             p_mean = product_time_latent[td[6]+1][i][0]\n",
    "    #             uq_i[i] = -1*(user_query-p_mean).norm(2).item()\n",
    "            ranks_order = uq_i.topk(20)[1]\n",
    "            r = torch.eq(ranks_order, td[1]).numpy()\n",
    "            all_hr += hit_rate(r)\n",
    "            all_mrr += mean_reciprocal_rank(r)\n",
    "            all_ndcg += dcg_at_k(r, 20, 1)\n",
    "            test_counter += 1\n",
    "    hr = all_hr / float(test_counter)\n",
    "    mrr = all_mrr / float(test_counter)\n",
    "    ndcg = all_ndcg / float(test_counter)\n",
    "    return hr, mrr, ndcg"
   ]
  },
  {
   "cell_type": "code",
   "execution_count": 9,
   "metadata": {},
   "outputs": [],
   "source": [
    "'''\n",
    "实验参数\n",
    "'''\n",
    "embedding_dim = 50\n",
    "out_size = 10\n",
    "batch_size = 128\n",
    "neg_sample_num = data_set.neg_sample_num\n",
    "dataLen = len(data_set.train_data)\n",
    "batch_num = int(dataLen/batch_size)\n",
    "full_len = batch_num*batch_size\n",
    "time_bin_num = len(data_set.time_data)\n",
    "total_epoch = 2\n",
    "device  = torch.device(\"cuda\" if torch.cuda.is_available() else \"cpu\")"
   ]
  },
  {
   "cell_type": "code",
   "execution_count": 10,
   "metadata": {},
   "outputs": [],
   "source": [
    "'''\n",
    "记录每个时间段的均值方差 初始化都为N(0, I) 第0个时间永远是N(0, I)\n",
    "'''\n",
    "user_time_latent_ml = []\n",
    "product_time_latent_ml = []\n",
    "word_time_latent_ml = []\n",
    "word_trans_linear_ml = []\n",
    "for t in range(time_bin_num+1):\n",
    "    user_time_latent_ml.append(dict())\n",
    "    user_time_latent_ml[t] = dict(zip(\\\n",
    "                                    list(datasets.id2user.keys()),[\\\n",
    "                                            [torch.zeros(embedding_dim), torch.ones(embedding_dim), 0.] for k in datasets.id2user.keys()\n",
    "                                            ]\\\n",
    "                                  ))\n",
    "    product_time_latent_ml.append(dict())\n",
    "    product_time_latent_ml[t] = dict(zip(\\\n",
    "                                    list(datasets.id2product.keys()),[\\\n",
    "                                            [torch.zeros(embedding_dim), torch.ones(embedding_dim), 0.] for k in datasets.id2product.keys()\n",
    "                                            ]\\\n",
    "                                  ))\n",
    "    word_time_latent_ml.append(dict())\n",
    "    word_time_latent_ml[t] = dict(zip(\\\n",
    "                                    list(datasets.id2word.keys()),[\\\n",
    "                                            [torch.zeros(embedding_dim), torch.ones(embedding_dim), 0.] for k in datasets.id2word.keys()\n",
    "                                            ]\\\n",
    "                                  ))\n",
    "    word_trans_linear_ml.append('')\n",
    "'''\n",
    "记录每个时间段的均值方差 初始化都为N(0, I) 第0个时间永远是N(0, I)\n",
    "'''\n",
    "user_time_latent_sk = []\n",
    "product_time_latent_sk = []\n",
    "word_time_latent_sk = []\n",
    "word_trans_linear_sk = []\n",
    "for t in range(time_bin_num+1):\n",
    "    user_time_latent_sk.append(dict())\n",
    "    user_time_latent_sk[t] = dict(zip(\\\n",
    "                                    list(datasets.id2user.keys()),[\\\n",
    "                                            [torch.zeros(embedding_dim), torch.ones(embedding_dim), 0.] for k in datasets.id2user.keys()\n",
    "                                            ]\\\n",
    "                                  ))\n",
    "    product_time_latent_sk.append(dict())\n",
    "    product_time_latent_sk[t] = dict(zip(\\\n",
    "                                    list(datasets.id2product.keys()),[\\\n",
    "                                            [torch.zeros(embedding_dim), torch.ones(embedding_dim), 0.] for k in datasets.id2product.keys()\n",
    "                                            ]\\\n",
    "                                  ))\n",
    "    word_time_latent_sk.append(dict())\n",
    "    word_time_latent_sk[t] = dict(zip(\\\n",
    "                                    list(datasets.id2word.keys()),[\\\n",
    "                                            [torch.zeros(embedding_dim), torch.ones(embedding_dim), 0.] for k in datasets.id2word.keys()\n",
    "                                            ]\\\n",
    "                                  ))\n",
    "    word_trans_linear_sk.append('')\n",
    "'''\n",
    "记录每个时间段的均值方差 初始化都为N(0, I) 第0个时间永远是N(0, I)\n",
    "'''\n",
    "user_time_latent_dis = []\n",
    "product_time_latent_dis = []\n",
    "word_time_latent_dis = []\n",
    "word_trans_linear_dis = []\n",
    "for t in range(time_bin_num+1):\n",
    "    user_time_latent_dis.append(dict())\n",
    "    user_time_latent_dis[t] = dict(zip(\\\n",
    "                                    list(datasets.id2user.keys()),[\\\n",
    "                                            [torch.zeros(embedding_dim), torch.ones(embedding_dim), 0.] for k in datasets.id2user.keys()\n",
    "                                            ]\\\n",
    "                                  ))\n",
    "    product_time_latent_dis.append(dict())\n",
    "    product_time_latent_dis[t] = dict(zip(\\\n",
    "                                    list(datasets.id2product.keys()),[\\\n",
    "                                            [torch.zeros(embedding_dim), torch.ones(embedding_dim), 0.] for k in datasets.id2product.keys()\n",
    "                                            ]\\\n",
    "                                  ))\n",
    "    word_time_latent_dis.append(dict())\n",
    "    word_time_latent_dis[t] = dict(zip(\\\n",
    "                                    list(datasets.id2word.keys()),[\\\n",
    "                                            [torch.zeros(embedding_dim), torch.ones(embedding_dim), 0.] for k in datasets.id2word.keys()\n",
    "                                            ]\\\n",
    "                                  ))\n",
    "    word_trans_linear_dis.append('')"
   ]
  },
  {
   "cell_type": "code",
   "execution_count": 11,
   "metadata": {},
   "outputs": [
    {
     "name": "stdout",
     "output_type": "stream",
     "text": [
      "CPU times: user 416 ms, sys: 36 ms, total: 452 ms\n",
      "Wall time: 450 ms\n"
     ]
    }
   ],
   "source": [
    "%%time\n",
    "import copy\n",
    "'''\n",
    "def __init__(self, user_size, item_size, word_size, query_size, embedding_dim,\\\n",
    "             max_query_len, max_review_len, batch_size, \\\n",
    "             neg_num=5,sample_num=1,transfer_hidden_dim=100,\\\n",
    "             sigma_parameter=1e-7, kl_parameter=1e-7, word_parameter=1e-2, device=torch.device('cpu')):\n",
    "'''\n",
    "model_ml = PSM(datasets.userNum, datasets.productNum, datasets.wordNum, datasets.queryNum,embedding_dim,\\\n",
    "            datasets.max_query_len, datasets.max_review_len, batch_size,\\\n",
    "            device=device)\n",
    "model_sk = PSM(datasets.userNum, datasets.productNum, datasets.wordNum, datasets.queryNum,embedding_dim,\\\n",
    "            datasets.max_query_len, datasets.max_review_len, batch_size,\\\n",
    "            device=device)\n",
    "model_dis = PSM(datasets.userNum, datasets.productNum, datasets.wordNum, datasets.queryNum,embedding_dim,\\\n",
    "            datasets.max_query_len, datasets.max_review_len, batch_size,\\\n",
    "            device=device)"
   ]
  },
  {
   "cell_type": "code",
   "execution_count": 12,
   "metadata": {},
   "outputs": [],
   "source": [
    "# model.load_state_dict(torch.load('../his/'+data_name+'_dynamic_word.pkl'))"
   ]
  },
  {
   "cell_type": "code",
   "execution_count": 13,
   "metadata": {},
   "outputs": [],
   "source": [
    "optimizer_ml = torch.optim.Adam(model_ml.parameters(), lr=0.001)\n",
    "optimizer_sk = torch.optim.Adam(model_sk.parameters(), lr=0.001)\n",
    "optimizer_dis = torch.optim.Adam(model_dis.parameters(), lr=0.001)"
   ]
  },
  {
   "cell_type": "code",
   "execution_count": 14,
   "metadata": {},
   "outputs": [
    {
     "name": "stdout",
     "output_type": "stream",
     "text": [
      "337 18\n"
     ]
    }
   ],
   "source": [
    "print(batch_num, time_bin_num)\n",
    "start_time_bin = time_bin_num - 1\n",
    "used_u = set()"
   ]
  },
  {
   "cell_type": "code",
   "execution_count": null,
   "metadata": {},
   "outputs": [],
   "source": []
  },
  {
   "cell_type": "code",
   "execution_count": 1,
   "metadata": {},
   "outputs": [
    {
     "ename": "NameError",
     "evalue": "name 'datasets' is not defined",
     "output_type": "error",
     "traceback": [
      "\u001b[0;31m---------------------------------------------------------------------------\u001b[0m",
      "\u001b[0;31mNameError\u001b[0m                                 Traceback (most recent call last)",
      "\u001b[0;32m<ipython-input-1-394a5dc26063>\u001b[0m in \u001b[0;36m<module>\u001b[0;34m\u001b[0m\n\u001b[0;32m----> 1\u001b[0;31m \u001b[0mprint\u001b[0m\u001b[0;34m(\u001b[0m\u001b[0;34m[\u001b[0m\u001b[0mlen\u001b[0m\u001b[0;34m(\u001b[0m\u001b[0mdatasets\u001b[0m\u001b[0;34m.\u001b[0m\u001b[0mtime_data\u001b[0m\u001b[0;34m[\u001b[0m\u001b[0mii\u001b[0m\u001b[0;34m]\u001b[0m\u001b[0;34m)\u001b[0m \u001b[0;32mfor\u001b[0m \u001b[0mii\u001b[0m \u001b[0;32min\u001b[0m \u001b[0mrange\u001b[0m\u001b[0;34m(\u001b[0m\u001b[0;36m18\u001b[0m\u001b[0;34m)\u001b[0m\u001b[0;34m]\u001b[0m\u001b[0;34m)\u001b[0m\u001b[0;34m\u001b[0m\u001b[0;34m\u001b[0m\u001b[0m\n\u001b[0m",
      "\u001b[0;32m<ipython-input-1-394a5dc26063>\u001b[0m in \u001b[0;36m<listcomp>\u001b[0;34m(.0)\u001b[0m\n\u001b[0;32m----> 1\u001b[0;31m \u001b[0mprint\u001b[0m\u001b[0;34m(\u001b[0m\u001b[0;34m[\u001b[0m\u001b[0mlen\u001b[0m\u001b[0;34m(\u001b[0m\u001b[0mdatasets\u001b[0m\u001b[0;34m.\u001b[0m\u001b[0mtime_data\u001b[0m\u001b[0;34m[\u001b[0m\u001b[0mii\u001b[0m\u001b[0;34m]\u001b[0m\u001b[0;34m)\u001b[0m \u001b[0;32mfor\u001b[0m \u001b[0mii\u001b[0m \u001b[0;32min\u001b[0m \u001b[0mrange\u001b[0m\u001b[0;34m(\u001b[0m\u001b[0;36m18\u001b[0m\u001b[0;34m)\u001b[0m\u001b[0;34m]\u001b[0m\u001b[0;34m)\u001b[0m\u001b[0;34m\u001b[0m\u001b[0;34m\u001b[0m\u001b[0m\n\u001b[0m",
      "\u001b[0;31mNameError\u001b[0m: name 'datasets' is not defined"
     ]
    }
   ],
   "source": [
    "print([len(datasets.time_data[ii]) for ii in range(18)])"
   ]
  },
  {
   "cell_type": "code",
   "execution_count": 17,
   "metadata": {},
   "outputs": [],
   "source": [
    "hr_all_ml = []\n",
    "mrr_all_ml = []\n",
    "ndcg_all_ml = []\n",
    "elob_all_ml = []\n",
    "hr_all_sk = []\n",
    "mrr_all_sk = []\n",
    "ndcg_all_sk = []\n",
    "elob_all_sk = []\n",
    "hr_all_dis = []\n",
    "mrr_all_dis = []\n",
    "ndcg_all_dis = []\n",
    "elob_all_dis = []"
   ]
  },
  {
   "cell_type": "code",
   "execution_count": null,
   "metadata": {
    "scrolled": true
   },
   "outputs": [
    {
     "name": "stdout",
     "output_type": "stream",
     "text": [
      "####################\n",
      "time:  17\n"
     ]
    }
   ],
   "source": [
    "model_ml.train()\n",
    "model_sk.train()\n",
    "model_dis.train()\n",
    "epoh_per_time = 1\n",
    "# 每个时间段分开训练，训练收敛后作为下一个时间的先验 用同样的model，也可以不一样\n",
    "all_train_num = 1\n",
    "for train_n in range(all_train_num):\n",
    "    for tb in range(17,18):\n",
    "        print('#'*20)\n",
    "        print('time: ', tb)\n",
    "        # 每个时间段的数据长度和批数量不一样\n",
    "        dataLen = len(datasets.time_data[tb])\n",
    "        batch_num = int(dataLen/batch_size)\n",
    "        full_len = batch_num*batch_size\n",
    "        if (batch_num == 0):\n",
    "            continue\n",
    "        if (tb == 17):\n",
    "            epoh_per_time = 40\n",
    "        elif tb == 16:\n",
    "            epoh_per_time = 1\n",
    "        elif (batch_num < 50):\n",
    "            epoh_per_time = 50\n",
    "        else:\n",
    "            epoh_per_time = 30\n",
    "        start_time_bin = min(tb,start_time_bin)\n",
    "        # 每个时间段训练100轮 如果损失低于0.004可以提前结束当前时间段训练\n",
    "        tb_eloss_ml = 0\n",
    "        tb_eloss_sk = 0\n",
    "        tb_eloss_dis = 0\n",
    "        for e in range(0,epoh_per_time,1):\n",
    "            e_loss_sk = 0\n",
    "            e_loss_ml = 0\n",
    "            e_loss_dis = 0\n",
    "            # update prior 记录本次训练出现的u p w\n",
    "            user_cur_latent_ml = dict(zip(\\\n",
    "                                            list(datasets.id2user.keys()),[\\\n",
    "                                                    [torch.zeros(embedding_dim), torch.zeros(embedding_dim), 0.] for k in datasets.id2user.keys()\n",
    "                                                    ]\\\n",
    "                                          ))\n",
    "            product_cur_latent_ml = dict(zip(\\\n",
    "                                             list(datasets.id2product.keys()),[\\\n",
    "                                                [torch.zeros(embedding_dim), torch.zeros(embedding_dim), 0.] for k in datasets.id2product.keys()\n",
    "                                                ]\\\n",
    "                                            ))\n",
    "            word_cur_latent_ml = dict(zip(\\\n",
    "                                             list(datasets.id2word.keys()),[\\\n",
    "                                                [torch.zeros(embedding_dim), torch.zeros(embedding_dim), 0.] for k in datasets.id2word.keys()\n",
    "                                                ]\\\n",
    "                                            ))\n",
    "            user_cur_latent_sk = dict(zip(\\\n",
    "                                            list(datasets.id2user.keys()),[\\\n",
    "                                                    [torch.zeros(embedding_dim), torch.zeros(embedding_dim), 0.] for k in datasets.id2user.keys()\n",
    "                                                    ]\\\n",
    "                                          ))\n",
    "            product_cur_latent_sk = dict(zip(\\\n",
    "                                             list(datasets.id2product.keys()),[\\\n",
    "                                                [torch.zeros(embedding_dim), torch.zeros(embedding_dim), 0.] for k in datasets.id2product.keys()\n",
    "                                                ]\\\n",
    "                                            ))\n",
    "            word_cur_latent_sk = dict(zip(\\\n",
    "                                             list(datasets.id2word.keys()),[\\\n",
    "                                                [torch.zeros(embedding_dim), torch.zeros(embedding_dim), 0.] for k in datasets.id2word.keys()\n",
    "                                                ]\\\n",
    "                                            ))\n",
    "            user_cur_latent_dis = dict(zip(\\\n",
    "                                            list(datasets.id2user.keys()),[\\\n",
    "                                                    [torch.zeros(embedding_dim), torch.zeros(embedding_dim), 0.] for k in datasets.id2user.keys()\n",
    "                                                    ]\\\n",
    "                                          ))\n",
    "            product_cur_latent_dis = dict(zip(\\\n",
    "                                             list(datasets.id2product.keys()),[\\\n",
    "                                                [torch.zeros(embedding_dim), torch.zeros(embedding_dim), 0.] for k in datasets.id2product.keys()\n",
    "                                                ]\\\n",
    "                                            ))\n",
    "            word_cur_latent_dis = dict(zip(\\\n",
    "                                             list(datasets.id2word.keys()),[\\\n",
    "                                                [torch.zeros(embedding_dim), torch.zeros(embedding_dim), 0.] for k in datasets.id2word.keys()\n",
    "                                                ]\\\n",
    "                                            ))\n",
    "            for i in range(0, full_len, batch_size):\n",
    "                users = []\n",
    "                items = []\n",
    "                querys =[]\n",
    "                query_lens =[]\n",
    "                reviews = []\n",
    "                review_lens = []\n",
    "                item_negs = []\n",
    "                word_negs = []\n",
    "    #             time_bin = []\n",
    "\n",
    "                prior_u_mean_ml = []\n",
    "                prior_u_std_ml = []\n",
    "                prior_i_mean_ml = []\n",
    "                prior_i_std_ml = []\n",
    "                prior_w_mean_ml = []\n",
    "                prior_w_std_ml = []\n",
    "                prior_i_mean_neg_ml = []\n",
    "                prior_i_std_neg_ml = []\n",
    "                prior_w_mean_neg_ml = []\n",
    "                prior_w_std_neg_ml = []\n",
    "\n",
    "\n",
    "                prior_u_mean_sk = []\n",
    "                prior_u_std_sk = []\n",
    "                prior_i_mean_sk = []\n",
    "                prior_i_std_sk = []\n",
    "                prior_w_mean_sk = []\n",
    "                prior_w_std_sk = []\n",
    "                prior_i_mean_neg_sk = []\n",
    "                prior_i_std_neg_sk = []\n",
    "                prior_w_mean_neg_sk = []\n",
    "                prior_w_std_neg_sk = []\n",
    "\n",
    "\n",
    "                prior_u_mean_dis = []\n",
    "                prior_u_std_dis = []\n",
    "                prior_i_mean_dis = []\n",
    "                prior_i_std_dis = []\n",
    "                prior_w_mean_dis = []\n",
    "                prior_w_std_dis = []\n",
    "                prior_i_mean_neg_dis = []\n",
    "                prior_i_std_neg_dis = []\n",
    "                prior_w_mean_neg_dis = []\n",
    "                prior_w_std_neg_dis = []\n",
    "                # 构造batch的数据\n",
    "                for j in range(batch_size):\n",
    "                    pos, negs = datasets.get_time_data(tb,i+j)\n",
    "                    users.append(pos[0])\n",
    "                    used_u.add(pos[0])\n",
    "                    items.append(pos[1])\n",
    "                    querys.append(pos[2])\n",
    "                    query_lens.append(pos[3])\n",
    "                    reviews.append(pos[4])\n",
    "                    review_lens.append(pos[5])\n",
    "    #                 time_bin.append(pos[6])\n",
    "                    item_negs.append(negs[0])\n",
    "                    word_negs.append(negs[1])\n",
    "                    prior_u_mean_ml.append(user_time_latent_ml[pos[6]][pos[0]][0].view(1,-1))\n",
    "                    prior_u_std_ml.append(user_time_latent_ml[pos[6]][pos[0]][1].view(1,-1))\n",
    "                    prior_i_mean_ml.append(product_time_latent_ml[pos[6]][pos[1]][0].view(1,-1))\n",
    "                    prior_i_std_ml.append(product_time_latent_ml[pos[6]][pos[1]][1].view(1,-1))\n",
    "                    prior_w_mean_ml.append(torch.cat(tuple(word_time_latent_ml[pos[6]][i][0].view(1,-1) for i in pos[4]) , dim=0).view(1,-1,embedding_dim))\n",
    "                    prior_w_std_ml.append(torch.cat(tuple(word_time_latent_ml[pos[6]][i][1].view(1,-1) for i in pos[4]) , dim=0).view(1,-1,embedding_dim))\n",
    "                    prior_i_mean_neg_ml.append(torch.cat( tuple(product_time_latent_ml[pos[6]][ii][0].view(1,-1) for ii in negs[0]) , dim=0).view(1,-1,embedding_dim))\n",
    "                    prior_i_std_neg_ml.append(torch.cat( tuple(product_time_latent_ml[pos[6]][ii][1].view(1,-1) for ii in negs[0]) , dim=0).view(1,-1,embedding_dim))\n",
    "                    prior_w_mean_neg_ml.append(torch.cat( tuple(word_time_latent_ml[pos[6]][ii][0].view(1,-1) for ii in negs[1]) , dim=0).view(1,-1,embedding_dim))\n",
    "                    prior_w_std_neg_ml.append(torch.cat( tuple(word_time_latent_ml[pos[6]][ii][1].view(1,-1) for ii in negs[1]) , dim=0).view(1,-1,embedding_dim))\n",
    "\n",
    "                    prior_u_mean_sk.append(user_time_latent_sk[pos[6]][pos[0]][0].view(1,-1))\n",
    "                    prior_u_std_sk.append(user_time_latent_sk[pos[6]][pos[0]][1].view(1,-1))\n",
    "                    prior_i_mean_sk.append(product_time_latent_sk[pos[6]][pos[1]][0].view(1,-1))\n",
    "                    prior_i_std_sk.append(product_time_latent_sk[pos[6]][pos[1]][1].view(1,-1))\n",
    "                    prior_w_mean_sk.append(torch.cat(tuple(word_time_latent_sk[pos[6]][i][0].view(1,-1) for i in pos[4]) , dim=0).view(1,-1,embedding_dim))\n",
    "                    prior_w_std_sk.append(torch.cat(tuple(word_time_latent_sk[pos[6]][i][1].view(1,-1) for i in pos[4]) , dim=0).view(1,-1,embedding_dim))\n",
    "                    prior_i_mean_neg_sk.append(torch.cat( tuple(product_time_latent_sk[pos[6]][ii][0].view(1,-1) for ii in negs[0]) , dim=0).view(1,-1,embedding_dim))\n",
    "                    prior_i_std_neg_sk.append(torch.cat( tuple(product_time_latent_sk[pos[6]][ii][1].view(1,-1) for ii in negs[0]) , dim=0).view(1,-1,embedding_dim))\n",
    "                    prior_w_mean_neg_sk.append(torch.cat( tuple(word_time_latent_sk[pos[6]][ii][0].view(1,-1) for ii in negs[1]) , dim=0).view(1,-1,embedding_dim))\n",
    "                    prior_w_std_neg_sk.append(torch.cat( tuple(word_time_latent_sk[pos[6]][ii][1].view(1,-1) for ii in negs[1]) , dim=0).view(1,-1,embedding_dim))\n",
    "\n",
    "                    prior_u_mean_dis.append(user_time_latent_dis[pos[6]][pos[0]][0].view(1,-1))\n",
    "                    prior_u_std_dis.append(user_time_latent_dis[pos[6]][pos[0]][1].view(1,-1))\n",
    "                    prior_i_mean_dis.append(product_time_latent_dis[pos[6]][pos[1]][0].view(1,-1))\n",
    "                    prior_i_std_dis.append(product_time_latent_dis[pos[6]][pos[1]][1].view(1,-1))\n",
    "                    prior_w_mean_dis.append(torch.cat(tuple(word_time_latent_dis[pos[6]][i][0].view(1,-1) for i in pos[4]) , dim=0).view(1,-1,embedding_dim))\n",
    "                    prior_w_std_dis.append(torch.cat(tuple(word_time_latent_dis[pos[6]][i][1].view(1,-1) for i in pos[4]) , dim=0).view(1,-1,embedding_dim))\n",
    "                    prior_i_mean_neg_dis.append(torch.cat( tuple(product_time_latent_dis[pos[6]][ii][0].view(1,-1) for ii in negs[0]) , dim=0).view(1,-1,embedding_dim))\n",
    "                    prior_i_std_neg_dis.append(torch.cat( tuple(product_time_latent_dis[pos[6]][ii][1].view(1,-1) for ii in negs[0]) , dim=0).view(1,-1,embedding_dim))\n",
    "                    prior_w_mean_neg_dis.append(torch.cat( tuple(word_time_latent_dis[pos[6]][ii][0].view(1,-1) for ii in negs[1]) , dim=0).view(1,-1,embedding_dim))\n",
    "                    prior_w_std_neg_dis.append(torch.cat( tuple(word_time_latent_dis[pos[6]][ii][1].view(1,-1) for ii in negs[1]) , dim=0).view(1,-1,embedding_dim))\n",
    "\n",
    "                users = torch.tensor(users).view(batch_size,-1)\n",
    "                items = torch.tensor(items).view(batch_size,-1)\n",
    "                querys =torch.tensor(querys).view(batch_size,-1)\n",
    "                query_lens =torch.tensor(query_lens).view(batch_size,-1).float()\n",
    "                reviews = torch.tensor(reviews).view(batch_size,-1)\n",
    "                review_lens =torch.tensor(review_lens).view(batch_size,-1).float()\n",
    "                item_negs = torch.tensor(item_negs).view(batch_size,-1)\n",
    "                word_negs = torch.tensor(word_negs).view(batch_size,-1)\n",
    "                prior_u_mean_ml = torch.cat(tuple(prior_u_mean_ml), dim=0)\n",
    "                prior_u_std_ml = torch.cat(tuple(prior_u_std_ml), dim=0)\n",
    "                prior_i_mean_ml = torch.cat(tuple(prior_i_mean_ml), dim=0)\n",
    "                prior_i_std_ml = torch.cat(tuple(prior_i_std_ml), dim=0)\n",
    "                prior_w_mean_ml = torch.cat(tuple(prior_w_mean_ml), dim=0)\n",
    "                prior_w_std_ml = torch.cat(tuple(prior_w_std_ml), dim=0)\n",
    "                prior_i_mean_neg_ml = torch.cat(tuple(prior_i_mean_neg_ml), dim=0)\n",
    "                prior_i_std_neg_ml = torch.cat(tuple(prior_i_std_neg_ml), dim=0)\n",
    "                prior_w_mean_neg_ml = torch.cat(tuple(prior_w_mean_neg_ml), dim=0)\n",
    "                prior_w_std_neg_ml = torch.cat(tuple(prior_w_std_neg_ml), dim=0)\n",
    "\n",
    "                prior_u_mean_sk = torch.cat(tuple(prior_u_mean_sk), dim=0)\n",
    "                prior_u_std_sk = torch.cat(tuple(prior_u_std_sk), dim=0)\n",
    "                prior_i_mean_sk = torch.cat(tuple(prior_i_mean_sk), dim=0)\n",
    "                prior_i_std_sk = torch.cat(tuple(prior_i_std_sk), dim=0)\n",
    "                prior_w_mean_sk = torch.cat(tuple(prior_w_mean_sk), dim=0)\n",
    "                prior_w_std_sk = torch.cat(tuple(prior_w_std_sk), dim=0)\n",
    "                prior_i_mean_neg_sk = torch.cat(tuple(prior_i_mean_neg_sk), dim=0)\n",
    "                prior_i_std_neg_sk = torch.cat(tuple(prior_i_std_neg_sk), dim=0)\n",
    "                prior_w_mean_neg_sk = torch.cat(tuple(prior_w_mean_neg_sk), dim=0)\n",
    "                prior_w_std_neg_sk = torch.cat(tuple(prior_w_std_neg_sk), dim=0)\n",
    "\n",
    "                prior_u_mean_dis = torch.cat(tuple(prior_u_mean_dis), dim=0)\n",
    "                prior_u_std_dis = torch.cat(tuple(prior_u_std_dis), dim=0)\n",
    "                prior_i_mean_dis = torch.cat(tuple(prior_i_mean_dis), dim=0)\n",
    "                prior_i_std_dis = torch.cat(tuple(prior_i_std_dis), dim=0)\n",
    "                prior_w_mean_dis = torch.cat(tuple(prior_w_mean_dis), dim=0)\n",
    "                prior_w_std_dis = torch.cat(tuple(prior_w_std_dis), dim=0)\n",
    "                prior_i_mean_neg_dis = torch.cat(tuple(prior_i_mean_neg_dis), dim=0)\n",
    "                prior_i_std_neg_dis = torch.cat(tuple(prior_i_std_neg_dis), dim=0)\n",
    "                prior_w_mean_neg_dis = torch.cat(tuple(prior_w_mean_neg_dis), dim=0)\n",
    "                prior_w_std_neg_dis = torch.cat(tuple(prior_w_std_neg_dis), dim=0)\n",
    "                # forward\n",
    "                user_mean, user_std, query, \\\n",
    "                item_mean_pos, item_std_pos,\\\n",
    "                items_mean_neg, items_std_neg, \\\n",
    "                user_sample, product_sample, product_sample_neg, \\\n",
    "                loss_ml, dis_pos_ml, dis_neg_ml,\\\n",
    "                word_mean_pos, word_std_pos, word_mean_neg, word_std_neg = model_ml(users, querys, query_lens, items, item_negs,\\\n",
    "                      prior_u_mean_ml, prior_u_std_ml,\\\n",
    "                      prior_i_mean_ml, prior_i_std_ml,\\\n",
    "                      prior_i_mean_neg_ml, prior_i_std_neg_ml,\\\n",
    "                      reviews, word_negs, review_lens,\\\n",
    "                      prior_w_mean_ml, prior_w_std_ml,\\\n",
    "                      prior_w_mean_neg_ml, prior_w_std_neg_ml , 'ml'\n",
    "                     )\n",
    "                e_loss_ml += loss_ml.item()\n",
    "\n",
    "                # train\n",
    "                optimizer_ml.zero_grad()\n",
    "                loss_ml.backward()\n",
    "                optimizer_ml.step()\n",
    "\n",
    "\n",
    "                # 当loss 大致收敛的时候 或者最后2个epoh的数据\n",
    "                # 记录这一个batch得到的均值和方差\n",
    "#                 if (epoh_per_time - e <= 2):\n",
    "                for ii in range(batch_size):\n",
    "                    user_cur_latent_ml[users[ii].item()][0] += user_mean[ii].detach().data\n",
    "                    user_cur_latent_ml[users[ii].item()][1] += user_std[ii].detach().data\n",
    "                    user_cur_latent_ml[users[ii].item()][2] += 1.\n",
    "\n",
    "                    product_cur_latent_ml[items[ii].item()][0] += item_mean_pos[ii].detach().data\n",
    "                    product_cur_latent_ml[items[ii].item()][1] += item_std_pos[ii].detach().data\n",
    "                    product_cur_latent_ml[items[ii].item()][2] += 1.\n",
    "\n",
    "                    for j in range(neg_sample_num):\n",
    "                        product_cur_latent_ml[item_negs[ii][j].item()][0] += items_mean_neg[ii][j].detach().data\n",
    "                        product_cur_latent_ml[item_negs[ii][j].item()][1] += items_std_neg[ii][j].detach().data\n",
    "                        product_cur_latent_ml[item_negs[ii][j].item()][2] += 1.\n",
    "                        word_cur_latent_ml[word_negs[ii][j].item()][0] += word_mean_neg[ii][j].detach().data\n",
    "                        word_cur_latent_ml[word_negs[ii][j].item()][1] += word_std_neg[ii][j].detach().data\n",
    "                        word_cur_latent_ml[word_negs[ii][j].item()][2] += 1.\n",
    "                    for j in range(datasets.max_review_len):\n",
    "                        word_cur_latent_ml[reviews[ii][j].item()][0] += word_mean_pos[ii][j].detach().data\n",
    "                        word_cur_latent_ml[reviews[ii][j].item()][1] += word_std_pos[ii][j].detach().data\n",
    "                        word_cur_latent_ml[reviews[ii][j].item()][2] += 1.\n",
    "\n",
    "                # forward\n",
    "                user_mean, user_std, query, \\\n",
    "                item_mean_pos, item_std_pos,\\\n",
    "                items_mean_neg, items_std_neg, \\\n",
    "                user_sample, product_sample, product_sample_neg, \\\n",
    "                loss_sk, dis_pos_sk, dis_neg_sk,\\\n",
    "                word_mean_pos, word_std_pos, word_mean_neg, word_std_neg = model_sk(users, querys, query_lens, items, item_negs,\\\n",
    "                      prior_u_mean_sk, prior_u_std_sk,\\\n",
    "                      prior_i_mean_sk, prior_i_std_sk,\\\n",
    "                      prior_i_mean_neg_sk, prior_i_std_neg_sk,\\\n",
    "                      reviews, word_negs, review_lens,\\\n",
    "                      prior_w_mean_sk, prior_w_std_sk,\\\n",
    "                      prior_w_mean_neg_sk, prior_w_std_neg_sk, 'sk'\n",
    "                     )\n",
    "                e_loss_sk += loss_sk.item()\n",
    "\n",
    "                # train\n",
    "                optimizer_sk.zero_grad()\n",
    "                loss_sk.backward()\n",
    "                optimizer_sk.step()\n",
    "\n",
    "\n",
    "                # 当loss 大致收敛的时候 或者最后2个epoh的数据\n",
    "                # 记录这一个batch得到的均值和方差\n",
    "#                 if (epoh_per_time - e <= 2):\n",
    "                for ii in range(batch_size):\n",
    "                    user_cur_latent_sk[users[ii].item()][0] += user_mean[ii].detach().data\n",
    "                    user_cur_latent_sk[users[ii].item()][1] += user_std[ii].detach().data\n",
    "                    user_cur_latent_sk[users[ii].item()][2] += 1.\n",
    "\n",
    "                    product_cur_latent_sk[items[ii].item()][0] += item_mean_pos[ii].detach().data\n",
    "                    product_cur_latent_sk[items[ii].item()][1] += item_std_pos[ii].detach().data\n",
    "                    product_cur_latent_sk[items[ii].item()][2] += 1.\n",
    "\n",
    "                    for j in range(neg_sample_num):\n",
    "                        product_cur_latent_sk[item_negs[ii][j].item()][0] += items_mean_neg[ii][j].detach().data\n",
    "                        product_cur_latent_sk[item_negs[ii][j].item()][1] += items_std_neg[ii][j].detach().data\n",
    "                        product_cur_latent_sk[item_negs[ii][j].item()][2] += 1.\n",
    "                        word_cur_latent_sk[word_negs[ii][j].item()][0] += word_mean_neg[ii][j].detach().data\n",
    "                        word_cur_latent_sk[word_negs[ii][j].item()][1] += word_std_neg[ii][j].detach().data\n",
    "                        word_cur_latent_sk[word_negs[ii][j].item()][2] += 1.\n",
    "                    for j in range(datasets.max_review_len):\n",
    "                        word_cur_latent_sk[reviews[ii][j].item()][0] += word_mean_pos[ii][j].detach().data\n",
    "                        word_cur_latent_sk[reviews[ii][j].item()][1] += word_std_pos[ii][j].detach().data\n",
    "                        word_cur_latent_sk[reviews[ii][j].item()][2] += 1.\n",
    "                # forward\n",
    "                user_mean, user_std, query, \\\n",
    "                item_mean_pos, item_std_pos,\\\n",
    "                items_mean_neg, items_std_neg, \\\n",
    "                user_sample, product_sample, product_sample_neg, \\\n",
    "                loss_dis, dis_pos_dis, dis_neg_dis,\\\n",
    "                word_mean_pos, word_std_pos, word_mean_neg, word_std_neg = model_dis(users, querys, query_lens, items, item_negs,\\\n",
    "                      prior_u_mean_dis, prior_u_std_dis,\\\n",
    "                      prior_i_mean_dis, prior_i_std_dis,\\\n",
    "                      prior_i_mean_neg_dis, prior_i_std_neg_dis,\\\n",
    "                      reviews, word_negs, review_lens,\\\n",
    "                      prior_w_mean_dis, prior_w_std_dis,\\\n",
    "                      prior_w_mean_neg_dis, prior_w_std_neg_dis, 'd'\n",
    "                     )\n",
    "                e_loss_dis += loss_dis.item()\n",
    "\n",
    "                # train\n",
    "                optimizer_dis.zero_grad()\n",
    "                loss_dis.backward()\n",
    "                optimizer_dis.step()\n",
    "\n",
    "\n",
    "                # 当loss 大致收敛的时候 或者最后2个epoh的数据\n",
    "                # 记录这一个batch得到的均值和方差\n",
    "#                 if (epoh_per_time - e <= 2):\n",
    "                for ii in range(batch_size):\n",
    "                    user_cur_latent_dis[users[ii].item()][0] += user_mean[ii].detach().data\n",
    "                    user_cur_latent_dis[users[ii].item()][1] += user_std[ii].detach().data\n",
    "                    user_cur_latent_dis[users[ii].item()][2] += 1.\n",
    "\n",
    "                    product_cur_latent_dis[items[ii].item()][0] += item_mean_pos[ii].detach().data\n",
    "                    product_cur_latent_dis[items[ii].item()][1] += item_std_pos[ii].detach().data\n",
    "                    product_cur_latent_dis[items[ii].item()][2] += 1.\n",
    "\n",
    "                    for j in range(neg_sample_num):\n",
    "                        product_cur_latent_dis[item_negs[ii][j].item()][0] += items_mean_neg[ii][j].detach().data\n",
    "                        product_cur_latent_dis[item_negs[ii][j].item()][1] += items_std_neg[ii][j].detach().data\n",
    "                        product_cur_latent_dis[item_negs[ii][j].item()][2] += 1.\n",
    "                        word_cur_latent_dis[word_negs[ii][j].item()][0] += word_mean_neg[ii][j].detach().data\n",
    "                        word_cur_latent_dis[word_negs[ii][j].item()][1] += word_std_neg[ii][j].detach().data\n",
    "                        word_cur_latent_dis[word_negs[ii][j].item()][2] += 1.\n",
    "                    for j in range(datasets.max_review_len):\n",
    "                        word_cur_latent_dis[reviews[ii][j].item()][0] += word_mean_pos[ii][j].detach().data\n",
    "                        word_cur_latent_dis[reviews[ii][j].item()][1] += word_std_pos[ii][j].detach().data\n",
    "                        word_cur_latent_dis[reviews[ii][j].item()][2] += 1.\n",
    "                if (int(i/batch_size)%10 == 0):\n",
    "                    print('#>>N:'+str(train_n)+' T:'+str(tb)+' E:' +str(e) + ' B:' + str(int(i/batch_size))+'>>#\\n')\n",
    "                    print(str(dis_pos_ml.item()) + \"  \" + str(dis_neg_ml.item()))\n",
    "                    print(\" loss_ml: \"+str(loss_ml.item()) + \"\\n\")\n",
    "                    print(str(dis_pos_sk.item()) + \"  \" + str(dis_neg_sk.item()))\n",
    "                    print(\" loss_sk: \"+str(loss_sk.item()) + \"\\n\")\n",
    "                    print(str(dis_pos_dis.item()) + \"  \" + str(dis_neg_dis.item()))\n",
    "                    print(\" loss_dis: \"+str(loss_dis.item()) + \"\\n\")\n",
    "                    with open('../log/dynmic_all_'+data_name+'_log.log', 'a+') as f:\n",
    "                        f.write('#>>N:'+str(train_n)+' T:'+str(tb)+' E:' +str(e) + ' B:' + str(int(i/batch_size))+'>>#\\n')\n",
    "                        f.write(str(dis_pos_ml.item()) + \"  \" + str(dis_neg_ml.item()))\n",
    "                        f.write(\" loss_ml: \"+str(loss_ml.item()) + \"\\n\")\n",
    "                        f.write(str(dis_pos_sk.item()) + \"  \" + str(dis_neg_sk.item()))\n",
    "                        f.write(\" loss_sk: \"+str(loss_sk.item()) + \"\\n\")\n",
    "                        f.write(str(dis_pos_dis.item()) + \"  \" + str(dis_neg_dis.item()))\n",
    "                        f.write(\" loss_dis: \"+str(loss_dis.item()) + \"\\n\")\n",
    "                if (tb == 17):\n",
    "                    elob_all_dis.append(-1*(loss_dis.item()))\n",
    "                    elob_all_ml.append(-1*(loss_ml.item()))\n",
    "                    elob_all_sk.append(-1*(loss_sk.item()))\n",
    "            # 更新std\n",
    "            for ii in range(datasets.userNum):\n",
    "    #             print(id(user_time_latent_ml[time_bin[ii]+1][users[ii].item()][0]))\n",
    "                if (int(user_cur_latent_ml[ii][2]) > 0.1): # 本轮有更新的user才更新\n",
    "                    user_time_latent_ml[tb+1][ii][0] = user_cur_latent_ml[ii][0]/user_cur_latent_ml[ii][2]\n",
    "                    user_time_latent_ml[tb+1][ii][1] = user_cur_latent_ml[ii][1]/user_cur_latent_ml[ii][2]\n",
    "    #             print(id(user_time_latent_ml[time_bin[ii]+1][users[ii].item()][0]))\n",
    "                if (int(user_cur_latent_sk[ii][2]) > 0.1): # 本轮有更新的user才更新\n",
    "                    user_time_latent_sk[tb+1][ii][0] = user_cur_latent_sk[ii][0]/user_cur_latent_sk[ii][2]\n",
    "                    user_time_latent_sk[tb+1][ii][1] = user_cur_latent_sk[ii][1]/user_cur_latent_sk[ii][2]\n",
    "    #             print(id(user_time_latent_ml[time_bin[ii]+1][users[ii].item()][0]))\n",
    "                if (int(user_cur_latent_dis[ii][2]) > 0.1): # 本轮有更新的user才更新\n",
    "                    user_time_latent_dis[tb+1][ii][0] = user_cur_latent_dis[ii][0]/user_cur_latent_dis[ii][2]\n",
    "                    user_time_latent_dis[tb+1][ii][1] = user_cur_latent_dis[ii][1]/user_cur_latent_dis[ii][2]\n",
    "\n",
    "            for ii in range(datasets.productNum):\n",
    "                if (product_cur_latent_ml[ii][2] > 0.1):\n",
    "                    product_time_latent_ml[tb+1][ii][0] = product_cur_latent_ml[ii][0]/product_cur_latent_ml[ii][2]\n",
    "                    product_time_latent_ml[tb+1][ii][1] = product_cur_latent_ml[ii][1]/product_cur_latent_ml[ii][2]\n",
    "                if (product_cur_latent_sk[ii][2] > 0.1):\n",
    "                    product_time_latent_sk[tb+1][ii][0] = product_cur_latent_sk[ii][0]/product_cur_latent_sk[ii][2]\n",
    "                    product_time_latent_sk[tb+1][ii][1] = product_cur_latent_sk[ii][1]/product_cur_latent_sk[ii][2]\n",
    "                if (product_cur_latent_dis[ii][2] > 0.1):\n",
    "                    product_time_latent_dis[tb+1][ii][0] = product_cur_latent_dis[ii][0]/product_cur_latent_dis[ii][2]\n",
    "                    product_time_latent_dis[tb+1][ii][1] = product_cur_latent_dis[ii][1]/product_cur_latent_dis[ii][2]\n",
    "            for ii in range(datasets.wordNum):\n",
    "                if (word_cur_latent_ml[ii][2] > 0.1):\n",
    "                    word_time_latent_ml[tb+1][ii][0] = word_cur_latent_ml[ii][0]/word_cur_latent_ml[ii][2]\n",
    "                    word_time_latent_ml[tb+1][ii][1] = word_cur_latent_ml[ii][1]/word_cur_latent_ml[ii][2]\n",
    "                if (word_cur_latent_sk[ii][2] > 0.1):\n",
    "                    word_time_latent_sk[tb+1][ii][0] = word_cur_latent_sk[ii][0]/word_cur_latent_sk[ii][2]\n",
    "                    word_time_latent_sk[tb+1][ii][1] = word_cur_latent_sk[ii][1]/word_cur_latent_sk[ii][2]\n",
    "                if (word_cur_latent_dis[ii][2] > 0.1):\n",
    "                    word_time_latent_dis[tb+1][ii][0] = word_cur_latent_dis[ii][0]/word_cur_latent_dis[ii][2]\n",
    "                    word_time_latent_dis[tb+1][ii][1] = word_cur_latent_dis[ii][1]/word_cur_latent_dis[ii][2]\n",
    "            word_trans_linear_ml[tb+1] = copy.copy(model_ml.queryLinear).eval()\n",
    "            word_trans_linear_sk[tb+1] = copy.copy(model_sk.queryLinear).eval()\n",
    "            word_trans_linear_dis[tb+1] = copy.copy(model_dis.queryLinear).eval()\n",
    "            \n",
    "            print('****N:'+str(train_n)+' T:'+str(tb)+' E:'+str(e)+'****\\n')\n",
    "            print(\"e_loss_ml: \"+str(e_loss_ml/batch_num) + \"\\n\")\n",
    "            print(\"e_loss_sk: \"+str(e_loss_sk/batch_num) + \"\\n\")\n",
    "            print(\"e_loss_dis: \"+str(e_loss_dis/batch_num) + \"\\n\")\n",
    "            with open('../log/dynmic_all_'+data_name+'_log.log', 'a+') as f:\n",
    "                f.write('****N:'+str(train_n)+' T:'+str(tb)+' E:'+str(e)+'****\\n')\n",
    "                f.write(\"e_loss_ml: \"+str(e_loss_ml/batch_num) + \"\\n\")\n",
    "                f.write(\"e_loss_sk: \"+str(e_loss_sk/batch_num) + \"\\n\")\n",
    "                f.write(\"e_loss_dis: \"+str(e_loss_dis/batch_num) + \"\\n\")\n",
    "#         tb_eloss_ml += e_loss_ml/batch_num\n",
    "#         tb_eloss_sk += e_loss_sk/batch_num\n",
    "#         tb_eloss_dis += e_loss_dis/batch_num\n",
    "\n",
    "            tb_eloss_ml = e_loss_ml/batch_num\n",
    "            tb_eloss_sk = e_loss_sk/batch_num\n",
    "            tb_eloss_dis = e_loss_dis/batch_num\n",
    "            if (tb == 17 and e % 1 == 0):\n",
    "#             elob_all_dis.append(-1*(tb_eloss_dis/time_bin_num))\n",
    "#             elob_all_ml.append(-1*(tb_eloss_ml/time_bin_num))\n",
    "#             elob_all_sk.append(-1*(tb_eloss_sk/time_bin_num))\n",
    "#                 elob_all_dis.append(-1*(tb_eloss_dis))\n",
    "#                 elob_all_ml.append(-1*(tb_eloss_ml))\n",
    "#                 elob_all_sk.append(-1*(tb_eloss_sk))\n",
    "                hr, mrr, ndcg = get_all_eval(time_bin_num, datasets, embedding_dim, product_time_latent_ml,\\\n",
    "                     start_time_bin,user_time_latent_ml,word_time_latent_ml,word_trans_linear_ml)\n",
    "                hr_all_ml.append(hr)\n",
    "                mrr_all_ml.append(mrr)\n",
    "                ndcg_all_ml.append(ndcg)\n",
    "                hr, mrr, ndcg = get_all_eval_2(time_bin_num, datasets, embedding_dim, product_time_latent_sk,\\\n",
    "                     start_time_bin,user_time_latent_sk,word_time_latent_sk,word_trans_linear_sk)\n",
    "                hr_all_sk.append(hr)\n",
    "                mrr_all_sk.append(mrr)\n",
    "                ndcg_all_sk.append(ndcg)\n",
    "                hr, mrr, ndcg = get_all_eval(time_bin_num, datasets, embedding_dim, product_time_latent_dis,\\\n",
    "                     start_time_bin,user_time_latent_dis,word_time_latent_dis,word_trans_linear_dis)\n",
    "                hr_all_dis.append(hr)\n",
    "                mrr_all_dis.append(mrr)\n",
    "                ndcg_all_dis.append(ndcg)\n",
    "                print('E:'+str(e)+' $$$ hr $$$ mrr $$$ ndcg $$$ elob\\n')\n",
    "                print('ml: '+str(hr_all_ml[-1])+' ' + str(mrr_all_ml[-1])+' '+str(ndcg_all_ml[-1])+' '+str(elob_all_ml[-1])+'\\n')\n",
    "                print('sk: '+str(hr_all_sk[-1])+' ' + str(mrr_all_sk[-1])+' '+str(ndcg_all_sk[-1])+' '+str(elob_all_sk[-1])+'\\n')\n",
    "                print('dis: '+str(hr_all_dis[-1])+' ' + str(mrr_all_dis[-1])+' '+str(ndcg_all_dis[-1])+' '+str(elob_all_dis[-1])+'\\n')\n",
    "                with open('../log/dynmic_all_'+data_name+'_log.log', 'a+') as f:\n",
    "                    f.write('E:'+str(e)+' $$$ hr $$$ mrr $$$ ndcg $$$ elob\\n')\n",
    "                    f.write('ml: '+str(hr_all_ml[-1])+' ' + str(mrr_all_ml[-1])+' '+str(ndcg_all_ml[-1])+' '+str(elob_all_ml[-1])+'\\n')\n",
    "                    f.write('sk: '+str(hr_all_sk[-1])+' ' + str(mrr_all_sk[-1])+' '+str(ndcg_all_sk[-1])+' '+str(elob_all_sk[-1])+'\\n')\n",
    "                    f.write('dis: '+str(hr_all_dis[-1])+' ' + str(mrr_all_dis[-1])+' '+str(ndcg_all_dis[-1])+' '+str(elob_all_dis[-1])+'\\n')"
   ]
  },
  {
   "cell_type": "code",
   "execution_count": 42,
   "metadata": {},
   "outputs": [
    {
     "data": {
      "text/plain": [
       "(9, 17)"
      ]
     },
     "execution_count": 42,
     "metadata": {},
     "output_type": "execute_result"
    }
   ],
   "source": [
    "e,tb"
   ]
  },
  {
   "cell_type": "code",
   "execution_count": 20,
   "metadata": {},
   "outputs": [],
   "source": [
    "import matplotlib.pyplot as plt"
   ]
  },
  {
   "cell_type": "code",
   "execution_count": 34,
   "metadata": {},
   "outputs": [],
   "source": [
    "plt_y = ndcg_all_ml\n",
    "plt_x = [i*1 for i in range(len(ndcg_all_ml))]"
   ]
  },
  {
   "cell_type": "code",
   "execution_count": 48,
   "metadata": {},
   "outputs": [],
   "source": [
    "# import pickle\n",
    "# with open(\"papr_hr_sk_\"+data_name+\".bin\", 'wb+') as f:\n",
    "#     pickle.dump(hr_all_sk, f)\n",
    "# with open(\"papr_hr_dis_\"+data_name+\".bin\", 'wb+') as f:\n",
    "#     pickle.dump(hr_all_dis, f)\n",
    "# with open(\"papr_hr_ml_\"+data_name+\".bin\", 'wb+') as f:\n",
    "#     pickle.dump(hr_all_ml, f)\n",
    "    \n",
    "# with open(\"papr_mrr_sk_\"+data_name+\".bin\", 'wb+') as f:\n",
    "#     pickle.dump(mrr_all_sk, f)\n",
    "# with open(\"papr_mrr_dis_\"+data_name+\".bin\", 'wb+') as f:\n",
    "#     pickle.dump(mrr_all_dis, f)\n",
    "# with open(\"papr_mrr_ml_\"+data_name+\".bin\", 'wb+') as f:\n",
    "#     pickle.dump(mrr_all_ml, f)\n",
    "\n",
    "# with open(\"papr_ndcg_sk_\"+data_name+\".bin\", 'wb+') as f:\n",
    "#     pickle.dump(ndcg_all_sk, f)\n",
    "# with open(\"papr_ndcg_dis_\"+data_name+\".bin\", 'wb+') as f:\n",
    "#     pickle.dump(ndcg_all_dis, f)\n",
    "# with open(\"papr_ndcg_ml_\"+data_name+\".bin\", 'wb+') as f:\n",
    "#     pickle.dump(ndcg_all_ml, f)\n",
    "\n",
    "# with open(\"papr_elob_sk_\"+data_name+\".bin\", 'wb+') as f:\n",
    "#     pickle.dump(elob_all_sk, f)\n",
    "# with open(\"papr_elob_dis_\"+data_name+\".bin\", 'wb+') as f:\n",
    "#     pickle.dump(elob_all_dis, f)\n",
    "# with open(\"papr_elob_ml_\"+data_name+\".bin\", 'wb+') as f:\n",
    "#     pickle.dump(elob_all_ml, f)"
   ]
  },
  {
   "cell_type": "code",
   "execution_count": 30,
   "metadata": {},
   "outputs": [
    {
     "data": {
      "text/plain": [
       "4970"
      ]
     },
     "execution_count": 30,
     "metadata": {},
     "output_type": "execute_result"
    }
   ],
   "source": [
    "len(elob_all_sk)"
   ]
  },
  {
   "cell_type": "code",
   "execution_count": 43,
   "metadata": {},
   "outputs": [],
   "source": [
    "elob_all_ml_t = [i for i in elob_all_ml]"
   ]
  },
  {
   "cell_type": "code",
   "execution_count": 46,
   "metadata": {},
   "outputs": [
    {
     "data": {
      "text/plain": [
       "<matplotlib.legend.Legend at 0x7faec02d76a0>"
      ]
     },
     "execution_count": 46,
     "metadata": {},
     "output_type": "execute_result"
    },
    {
     "data": {
      "image/png": "[encoded data removed]",
      "text/plain": [
       "<Figure size 432x288 with 1 Axes>"
      ]
     },
     "metadata": {
      "needs_background": "light"
     },
     "output_type": "display_data"
    }
   ],
   "source": [
    "plt_x = [i*1 for i in range(len(elob_all_ml_t))]\n",
    "plt.title('ELBO')\n",
    "plt.ylim((-10,0))\n",
    "plt.plot(plt_x, elob_all_ml_t, label = 'DBML-online')\n",
    "plt.plot(plt_x, elob_all_sk, label = 'DBSK')\n",
    "plt.plot(plt_x, elob_all_dis, label = 'DBML-point')\n",
    "plt.legend()"
   ]
  },
  {
   "cell_type": "code",
   "execution_count": 47,
   "metadata": {},
   "outputs": [
    {
     "data": {
      "text/plain": [
       "<matplotlib.legend.Legend at 0x7faebfe564a8>"
      ]
     },
     "execution_count": 47,
     "metadata": {},
     "output_type": "execute_result"
    },
    {
     "data": {
      "image/png": "[encoded data removed]",
      "text/plain": [
       "<Figure size 1080x216 with 3 Axes>"
      ]
     },
     "metadata": {
      "needs_background": "light"
     },
     "output_type": "display_data"
    }
   ],
   "source": [
    "plt.figure(figsize=(15,3))\n",
    "plt.subplot(131)\n",
    "plt_x = [i*1 for i in range(len(ndcg_all_ml))]\n",
    "plt.title('NDCG@20')\n",
    "plt.plot(plt_x, ndcg_all_ml, label = 'DBML')\n",
    "plt.plot(plt_x, ndcg_all_sk, label = 'inner-product')\n",
    "plt.plot(plt_x, ndcg_all_dis, label = 'sk-dis')\n",
    "plt.legend()\n",
    "plt.subplot(132)\n",
    "plt.title('HR@20')\n",
    "plt_x = [i*1 for i in range(len(mrr_all_dis))]\n",
    "plt.plot(plt_x, hr_all_ml, label = 'DBML')\n",
    "plt.plot(plt_x, hr_all_sk, label = 'inner-product')\n",
    "plt.plot(plt_x, hr_all_dis, label = 'sk-dis')\n",
    "plt.legend()\n",
    "plt.subplot(133)\n",
    "plt.title('MRR@20')\n",
    "plt_x = [i*1 for i in range(len(mrr_all_dis))]\n",
    "plt.plot(plt_x, mrr_all_ml, label = 'DBML')\n",
    "plt.plot(plt_x, mrr_all_sk, label = 'inner-product')\n",
    "plt.plot(plt_x, mrr_all_dis, label = 'sk-dis')\n",
    "plt.legend()"
   ]
  },
  {
   "cell_type": "code",
   "execution_count": 45,
   "metadata": {},
   "outputs": [],
   "source": [
    "utrain = set()\n",
    "for i in datasets.train_data:\n",
    "    if (i[-1] == 17):\n",
    "        utrain.add(i[0])\n",
    "utest = set()\n",
    "for i in datasets.test_data:\n",
    "    if (i[-1] == 17):\n",
    "        utest.add(i[0])"
   ]
  },
  {
   "cell_type": "code",
   "execution_count": 46,
   "metadata": {},
   "outputs": [
    {
     "data": {
      "text/plain": [
       "(172590, 27879)"
      ]
     },
     "execution_count": 46,
     "metadata": {},
     "output_type": "execute_result"
    }
   ],
   "source": [
    "len(datasets.train_data), len(datasets.test_data)"
   ]
  },
  {
   "cell_type": "code",
   "execution_count": 47,
   "metadata": {},
   "outputs": [
    {
     "data": {
      "text/plain": [
       "(9733, 16473)"
      ]
     },
     "execution_count": 47,
     "metadata": {},
     "output_type": "execute_result"
    }
   ],
   "source": [
    "len(utrain), len(utest)"
   ]
  },
  {
   "cell_type": "code",
   "execution_count": null,
   "metadata": {},
   "outputs": [],
   "source": []
  },
  {
   "cell_type": "code",
   "execution_count": 87,
   "metadata": {},
   "outputs": [],
   "source": [
    "torch.save(model.state_dict(), '../his/'+data_name+'_dynamic_word.pkl')\n",
    "import pickle\n",
    "'''\n",
    "保存文件\n",
    "'''\n",
    "with open('../his/user_time_latent_'+data_name+'_dynamic_with_word.bin', 'wb+') as f:\n",
    "    pickle.dump(user_time_latent,f)\n",
    "with open('../his/product_time_latent_'+data_name+'_dynamic_with_word.bin', 'wb+') as f:\n",
    "    pickle.dump(product_time_latent,f)\n",
    "with open('../his/word_time_latent_'+data_name+'_dynamic_with_word.bin', 'wb+') as f:\n",
    "    pickle.dump(word_time_latent,f)\n",
    "with open('../his/word_trans_linear_'+data_name+'_dynamic_with_word.bin', 'wb+') as f:\n",
    "    pickle.dump(word_trans_linear, f)"
   ]
  },
  {
   "cell_type": "code",
   "execution_count": 88,
   "metadata": {},
   "outputs": [],
   "source": [
    "# import pickle\n",
    "# with open('../his/user_time_latent_'+data_name+'_dynamic_with_word.bin', 'rb') as f:\n",
    "#     user_time_latent = pickle.load(f)\n",
    "# with open('../his/product_time_latent_'+data_name+'_dynamic_with_word.bin', 'rb') as f:\n",
    "#     product_time_latent = pickle.load(f)\n",
    "# with open('../his/word_time_latent_'+data_name+'_dynamic_with_word.bin', 'rb') as f:\n",
    "#     word_time_latent = pickle.load(f)\n",
    "# with open('../his/word_trans_linear_'+data_name+'_dynamic_with_word.bin', 'rb') as f:\n",
    "#     word_trans_linear = pickle.load(f)"
   ]
  },
  {
   "cell_type": "code",
   "execution_count": 14,
   "metadata": {},
   "outputs": [],
   "source": [
    "def dcg_at_k(r, k, method=0):\n",
    "    r = np.asfarray(r)[:k]\n",
    "    if r.size:\n",
    "        if method == 0:\n",
    "            return r[0] + np.sum(r[1:] / np.log2(np.arange(2, r.size + 1)))\n",
    "        elif method == 1:\n",
    "            return np.sum(r / np.log2(np.arange(2, r.size + 2)))\n",
    "        else:\n",
    "            raise ValueError('method must be 0 or 1.')\n",
    "    return 0.\n",
    "def mean_reciprocal_rank(r):\n",
    "    return np.sum(r / np.arange(1, r.size + 1))\n",
    "def hit_rate(r):\n",
    "    if (np.sum(r) >= 0.9):\n",
    "        return 1\n",
    "    else:\n",
    "        return 0"
   ]
  },
  {
   "cell_type": "code",
   "execution_count": 15,
   "metadata": {},
   "outputs": [],
   "source": []
  },
  {
   "cell_type": "code",
   "execution_count": 16,
   "metadata": {},
   "outputs": [],
   "source": [
    "from tqdm import trange"
   ]
  },
  {
   "cell_type": "code",
   "execution_count": 17,
   "metadata": {},
   "outputs": [
    {
     "ename": "NameError",
     "evalue": "name 'eval_dataset' is not defined",
     "output_type": "error",
     "traceback": [
      "\u001b[0;31m---------------------------------------------------------------------------\u001b[0m",
      "\u001b[0;31mNameError\u001b[0m                                 Traceback (most recent call last)",
      "\u001b[0;32m<ipython-input-17-f56fe66b1231>\u001b[0m in \u001b[0;36m<module>\u001b[0;34m\u001b[0m\n\u001b[0;32m----> 1\u001b[0;31m \u001b[0mlen\u001b[0m\u001b[0;34m(\u001b[0m\u001b[0meval_dataset\u001b[0m\u001b[0;34m)\u001b[0m\u001b[0;34m\u001b[0m\u001b[0;34m\u001b[0m\u001b[0m\n\u001b[0m",
      "\u001b[0;31mNameError\u001b[0m: name 'eval_dataset' is not defined"
     ]
    }
   ],
   "source": [
    "len(eval_dataset)"
   ]
  },
  {
   "cell_type": "code",
   "execution_count": null,
   "metadata": {},
   "outputs": [
    {
     "name": "stderr",
     "output_type": "stream",
     "text": [
      " 86%|████████▌ | 16620/19403 [2:01:41<18:01,  2.57it/s]  "
     ]
    }
   ],
   "source": [
    "#.  0    1         2        3        4         5       6\n",
    "# (uid, pid_pos, qids_pos, len_pos, text_ids, len_r, time_bin_pos)\n",
    "all_p_m = torch.empty(time_bin_num+1, datasets.productNum, embedding_dim)\n",
    "for ii in range(time_bin_num+1):\n",
    "    k = 0\n",
    "    for i in product_time_latent[ii].values():\n",
    "        all_p_m[ii][k] = i[0]\n",
    "        k+=1\n",
    "eval_dataset = datasets.test_data\n",
    "test_counter = 0\n",
    "all_hr = 0\n",
    "all_ndcg = 0\n",
    "all_mrr = 0\n",
    "for ii in trange(len(eval_dataset)):\n",
    "    td = eval_dataset[ii]\n",
    "    '''\n",
    "    应该定义一个训练过的user， 这里简单的先取训练过的时间段的用户\n",
    "    '''\n",
    "    if (td[6] >= start_time_bin):\n",
    "        user = user_time_latent[td[6]+1][td[0]][0]\n",
    "        product = product_time_latent[td[6]+1][td[1]][0]\n",
    "        query_len = td[3]\n",
    "        query = torch.cat(tuple([word_time_latent[td[6]+1][i][0] for i in td[2]])).view(1,-1,embedding_dim)\n",
    "        query = get_query_laten(word_trans_linear[td[6]+1], query, query_len, datasets.max_query_len)\n",
    "        user_query = user+query\n",
    "#         uq_i = torch.empty(datasets.productNum)\n",
    "        user_query.squeeze_(0)\n",
    "        uq_i = (user_query - all_p_m[td[6]+1]).norm(2, dim=1)*(-1.)\n",
    "#         for i in range(datasets.productNum):\n",
    "#             p_mean = product_time_latent[td[6]+1][i][0]\n",
    "#             uq_i[i] = -1*(user_query-p_mean).norm(2).item()\n",
    "        ranks_order = uq_i.topk(20)[1]\n",
    "        r = torch.eq(ranks_order, td[1]).numpy()\n",
    "        all_hr += hit_rate(r)\n",
    "        all_mrr += mean_reciprocal_rank(r)\n",
    "        all_ndcg += dcg_at_k(r, 20, 1)\n",
    "        test_counter += 1\n",
    "hr = all_hr / float(test_counter)\n",
    "mrr = all_mrr / float(test_counter)\n",
    "ndcg = all_ndcg / float(test_counter)"
   ]
  },
  {
   "cell_type": "code",
   "execution_count": 62,
   "metadata": {},
   "outputs": [
    {
     "data": {
      "text/plain": [
       "True"
      ]
     },
     "execution_count": 62,
     "metadata": {},
     "output_type": "execute_result"
    }
   ],
   "source": [
    "1 in used_u"
   ]
  },
  {
   "cell_type": "code",
   "execution_count": 19,
   "metadata": {},
   "outputs": [
    {
     "data": {
      "text/plain": [
       "(0.31333333333333335, 0.11096595071595074, 0.15635418538487844)"
      ]
     },
     "execution_count": 19,
     "metadata": {},
     "output_type": "execute_result"
    }
   ],
   "source": [
    "hr, mrr, ndcg"
   ]
  },
  {
   "cell_type": "code",
   "execution_count": 81,
   "metadata": {},
   "outputs": [
    {
     "data": {
      "text/plain": [
       "(0.38, 0.12505333214543743, 0.18218913345225057)"
      ]
     },
     "execution_count": 81,
     "metadata": {},
     "output_type": "execute_result"
    }
   ],
   "source": [
    "hr, mrr, ndcg"
   ]
  },
  {
   "cell_type": "code",
   "execution_count": null,
   "metadata": {},
   "outputs": [],
   "source": []
  }
 ],
 "metadata": {
  "kernelspec": {
   "display_name": "Python 3",
   "language": "python",
   "name": "python3"
  },
  "language_info": {
   "codemirror_mode": {
    "name": "ipython",
    "version": 3
   },
   "file_extension": ".py",
   "mimetype": "text/x-python",
   "name": "python",
   "nbconvert_exporter": "python",
   "pygments_lexer": "ipython3",
   "version": "3.7.3"
  }
 },
 "nbformat": 4,
 "nbformat_minor": 2
}
