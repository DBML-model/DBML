{
 "cells": [
  {
   "cell_type": "code",
   "execution_count": 1,
   "metadata": {},
   "outputs": [],
   "source": [
    "import gzip\n",
    "import json\n",
    "from dateutil.parser import parse as pt\n",
    "import pandas as pd\n",
    "import numpy as np\n",
    "import random\n",
    "from tqdm import tqdm, trange"
   ]
  },
  {
   "cell_type": "code",
   "execution_count": 2,
   "metadata": {},
   "outputs": [],
   "source": [
    "random.seed(5)"
   ]
  },
  {
   "cell_type": "markdown",
   "metadata": {},
   "source": [
    "## 读取数据转为dataframe"
   ]
  },
  {
   "cell_type": "code",
   "execution_count": 3,
   "metadata": {},
   "outputs": [
    {
     "name": "stdout",
     "output_type": "stream",
     "text": [
      "CPU times: user 2 µs, sys: 0 ns, total: 2 µs\n",
      "Wall time: 5.72 µs\n"
     ]
    }
   ],
   "source": [
    "%time\n",
    "data_name = 'Toys_and_Games'"
   ]
  },
  {
   "cell_type": "code",
   "execution_count": 4,
   "metadata": {},
   "outputs": [],
   "source": [
    "'''\n",
    "自己编写的\n",
    "'''\n",
    "g = gzip.open('../data/reviews_'+data_name+'_5.json.gz', 'r')\n",
    "reviews = []\n",
    "for l in g:\n",
    "    reviews.append(json.loads(l.decode()[:-1]))\n",
    "values = dict()\n",
    "ks = ['reviewerID', 'asin', 'reviewText', 'reviewTime', 'unixReviewTime']\n",
    "for k in ks:\n",
    "    values[k] = []\n",
    "for i in range(len(reviews)):\n",
    "    try:\n",
    "        for k in ks:\n",
    "#             if k == 'reviewTime':\n",
    "#                 values[k].append(pt(reviews[i][k]))\n",
    "#             else:\n",
    "            values[k].append(reviews[i][k])\n",
    "    except:\n",
    "        print(reviews[i])\n",
    "review_datas = pd.DataFrame(values)"
   ]
  },
  {
   "cell_type": "code",
   "execution_count": 5,
   "metadata": {},
   "outputs": [
    {
     "data": {
      "text/plain": [
       "(11924, 19412)"
      ]
     },
     "execution_count": 5,
     "metadata": {},
     "output_type": "execute_result"
    }
   ],
   "source": [
    "# 物品数。user数\n",
    "len(set(review_datas['asin'])),len(set(review_datas['reviewerID']))"
   ]
  },
  {
   "cell_type": "code",
   "execution_count": 6,
   "metadata": {},
   "outputs": [],
   "source": [
    "import nltk\n",
    "import re"
   ]
  },
  {
   "cell_type": "code",
   "execution_count": 7,
   "metadata": {},
   "outputs": [],
   "source": [
    "stopwords = nltk.corpus.stopwords.words('english') + list(';.~!@#$:%^&*(()_+=-[])/|\\'\\\"?<>,`\\\\1234567890')"
   ]
  },
  {
   "cell_type": "code",
   "execution_count": 8,
   "metadata": {},
   "outputs": [],
   "source": [
    "def help_f_cut_stop_word(x):\n",
    "    x = x.lower()\n",
    "    x = re.sub(r'([;\\.~\\!@\\#\\$\\%\\^\\&\\*\\(\\(\\)_\\+\\=\\-\\[\\]\\)/\\|\\'\\\"\\?<>,`\\\\])','',x)\n",
    "    ss = \"\"\n",
    "    words = x.split(' ')\n",
    "    for w in words:\n",
    "        if (w in stopwords):\n",
    "            pass\n",
    "        else:\n",
    "            ss += ' ' + w\n",
    "    return ss.lower().strip()\n",
    "\n",
    "review_datas['reviewText'] = review_datas['reviewText'].map(help_f_cut_stop_word)"
   ]
  },
  {
   "cell_type": "code",
   "execution_count": 9,
   "metadata": {},
   "outputs": [
    {
     "data": {
      "text/html": [
       "<div>\n",
       "<style scoped>\n",
       "    .dataframe tbody tr th:only-of-type {\n",
       "        vertical-align: middle;\n",
       "    }\n",
       "\n",
       "    .dataframe tbody tr th {\n",
       "        vertical-align: top;\n",
       "    }\n",
       "\n",
       "    .dataframe thead th {\n",
       "        text-align: right;\n",
       "    }\n",
       "</style>\n",
       "<table border=\"1\" class=\"dataframe\">\n",
       "  <thead>\n",
       "    <tr style=\"text-align: right;\">\n",
       "      <th></th>\n",
       "      <th>reviewerID</th>\n",
       "      <th>asin</th>\n",
       "      <th>reviewText</th>\n",
       "      <th>reviewTime</th>\n",
       "      <th>unixReviewTime</th>\n",
       "    </tr>\n",
       "  </thead>\n",
       "  <tbody>\n",
       "    <tr>\n",
       "      <th>0</th>\n",
       "      <td>A1VXOAVRGKGEAK</td>\n",
       "      <td>0439893577</td>\n",
       "      <td>like item pricing granddaughter wanted mark wa...</td>\n",
       "      <td>01 29, 2014</td>\n",
       "      <td>1390953600</td>\n",
       "    </tr>\n",
       "    <tr>\n",
       "      <th>1</th>\n",
       "      <td>A8R62G708TSCM</td>\n",
       "      <td>0439893577</td>\n",
       "      <td>love magnet easel great moving different areas...</td>\n",
       "      <td>03 28, 2014</td>\n",
       "      <td>1395964800</td>\n",
       "    </tr>\n",
       "  </tbody>\n",
       "</table>\n",
       "</div>"
      ],
      "text/plain": [
       "       reviewerID        asin  \\\n",
       "0  A1VXOAVRGKGEAK  0439893577   \n",
       "1   A8R62G708TSCM  0439893577   \n",
       "\n",
       "                                          reviewText   reviewTime  \\\n",
       "0  like item pricing granddaughter wanted mark wa...  01 29, 2014   \n",
       "1  love magnet easel great moving different areas...  03 28, 2014   \n",
       "\n",
       "   unixReviewTime  \n",
       "0      1390953600  \n",
       "1      1395964800  "
      ]
     },
     "execution_count": 9,
     "metadata": {},
     "output_type": "execute_result"
    }
   ],
   "source": [
    "review_datas.head(2)"
   ]
  },
  {
   "cell_type": "markdown",
   "metadata": {},
   "source": [
    "## 设置seq的最大长度为均值长度"
   ]
  },
  {
   "cell_type": "code",
   "execution_count": 10,
   "metadata": {},
   "outputs": [
    {
     "data": {
      "text/plain": [
       "3084"
      ]
     },
     "execution_count": 10,
     "metadata": {},
     "output_type": "execute_result"
    }
   ],
   "source": [
    "r_lens = []\n",
    "for i in review_datas['reviewText']:\n",
    "    r_lens.append(len(i.split(' ')))\n",
    "max_review_len = max(r_lens)\n",
    "max_review_len"
   ]
  },
  {
   "cell_type": "code",
   "execution_count": 11,
   "metadata": {},
   "outputs": [
    {
     "data": {
      "text/plain": [
       "51"
      ]
     },
     "execution_count": 11,
     "metadata": {},
     "output_type": "execute_result"
    }
   ],
   "source": [
    "mean_review_len = int(sum(r_lens)/len(r_lens))\n",
    "max_review_len = mean_review_len\n",
    "mean_review_len"
   ]
  },
  {
   "cell_type": "code",
   "execution_count": 12,
   "metadata": {},
   "outputs": [],
   "source": [
    "def cutWord(x):\n",
    "    if (len(x.split(' ')) > mean_review_len):\n",
    "        x = x[:mean_review_len]\n",
    "    return x\n",
    "'''\n",
    "记录最大的review length\n",
    "'''\n",
    "review_datas['reviewText'] = review_datas['reviewText'].map(cutWord)"
   ]
  },
  {
   "cell_type": "markdown",
   "metadata": {},
   "source": [
    "## 按时间排序数据"
   ]
  },
  {
   "cell_type": "code",
   "execution_count": 13,
   "metadata": {},
   "outputs": [],
   "source": [
    "review_datas = review_datas.sort_values(by='unixReviewTime', ascending=True)"
   ]
  },
  {
   "cell_type": "markdown",
   "metadata": {},
   "source": [
    "## 添加时间戳"
   ]
  },
  {
   "cell_type": "code",
   "execution_count": 14,
   "metadata": {},
   "outputs": [],
   "source": [
    "review_datas['timeBin'] = None"
   ]
  },
  {
   "cell_type": "code",
   "execution_count": 15,
   "metadata": {},
   "outputs": [],
   "source": [
    "time_scope = [j for j in range(1997,2016)]\n",
    "dataBins = [pt(str(i)+\"-1-1\").timestamp() for i in time_scope]\n",
    "len(time_scope)\n",
    "temporal_datas = [pd.DataFrame(columns=('reviewerID', 'asin', 'reviewText', 'reviewTime', 'unixReviewTime')) for _ in range(len(time_scope)-1)]"
   ]
  },
  {
   "cell_type": "code",
   "execution_count": 16,
   "metadata": {},
   "outputs": [
    {
     "name": "stderr",
     "output_type": "stream",
     "text": [
      "/home/rjx/anaconda3/lib/python3.7/site-packages/pandas/core/indexing.py:543: SettingWithCopyWarning: \n",
      "A value is trying to be set on a copy of a slice from a DataFrame.\n",
      "Try using .loc[row_indexer,col_indexer] = value instead\n",
      "\n",
      "See the caveats in the documentation: http://pandas.pydata.org/pandas-docs/stable/indexing.html#indexing-view-versus-copy\n",
      "  self.obj[item] = s\n"
     ]
    }
   ],
   "source": [
    "for t in range(0,len(dataBins)-1):\n",
    "        temporal_datas[t] = review_datas[(review_datas['unixReviewTime'] >= dataBins[t]) & (review_datas['unixReviewTime'] < dataBins[t+1])]\n",
    "        temporal_datas[t].loc[:, 'timeBin'] = t\n",
    "        review_datas.loc[(review_datas['unixReviewTime'] >= dataBins[t]) & (review_datas['unixReviewTime'] < dataBins[t+1]), 'timeBin'] = t"
   ]
  },
  {
   "cell_type": "code",
   "execution_count": 17,
   "metadata": {},
   "outputs": [
    {
     "data": {
      "text/html": [
       "<div>\n",
       "<style scoped>\n",
       "    .dataframe tbody tr th:only-of-type {\n",
       "        vertical-align: middle;\n",
       "    }\n",
       "\n",
       "    .dataframe tbody tr th {\n",
       "        vertical-align: top;\n",
       "    }\n",
       "\n",
       "    .dataframe thead th {\n",
       "        text-align: right;\n",
       "    }\n",
       "</style>\n",
       "<table border=\"1\" class=\"dataframe\">\n",
       "  <thead>\n",
       "    <tr style=\"text-align: right;\">\n",
       "      <th></th>\n",
       "      <th>reviewerID</th>\n",
       "      <th>asin</th>\n",
       "      <th>reviewText</th>\n",
       "      <th>reviewTime</th>\n",
       "      <th>unixReviewTime</th>\n",
       "      <th>timeBin</th>\n",
       "    </tr>\n",
       "  </thead>\n",
       "  <tbody>\n",
       "    <tr>\n",
       "      <th>103905</th>\n",
       "      <td>A12993071VTG5G</td>\n",
       "      <td>B0050OTNMC</td>\n",
       "      <td>bought gift year old loves dress loved every o...</td>\n",
       "      <td>01 8, 2013</td>\n",
       "      <td>1357603200</td>\n",
       "      <td>16</td>\n",
       "    </tr>\n",
       "    <tr>\n",
       "      <th>42157</th>\n",
       "      <td>A2TFBF9OA0XVFW</td>\n",
       "      <td>B000RA76S2</td>\n",
       "      <td>great device low cost works exactly described ...</td>\n",
       "      <td>12 21, 2012</td>\n",
       "      <td>1356048000</td>\n",
       "      <td>15</td>\n",
       "    </tr>\n",
       "    <tr>\n",
       "      <th>160153</th>\n",
       "      <td>A3P79VQHXG3QRL</td>\n",
       "      <td>B00DKCI1P6</td>\n",
       "      <td>grandson two bought go go smart wheels parents...</td>\n",
       "      <td>05 5, 2014</td>\n",
       "      <td>1399248000</td>\n",
       "      <td>17</td>\n",
       "    </tr>\n",
       "    <tr>\n",
       "      <th>3036</th>\n",
       "      <td>A29VRZ6F7Z03XA</td>\n",
       "      <td>B00000IRTI</td>\n",
       "      <td>almost year old really enjoys since makes easy...</td>\n",
       "      <td>01 8, 2006</td>\n",
       "      <td>1136678400</td>\n",
       "      <td>9</td>\n",
       "    </tr>\n",
       "  </tbody>\n",
       "</table>\n",
       "</div>"
      ],
      "text/plain": [
       "            reviewerID        asin  \\\n",
       "103905  A12993071VTG5G  B0050OTNMC   \n",
       "42157   A2TFBF9OA0XVFW  B000RA76S2   \n",
       "160153  A3P79VQHXG3QRL  B00DKCI1P6   \n",
       "3036    A29VRZ6F7Z03XA  B00000IRTI   \n",
       "\n",
       "                                               reviewText   reviewTime  \\\n",
       "103905  bought gift year old loves dress loved every o...   01 8, 2013   \n",
       "42157   great device low cost works exactly described ...  12 21, 2012   \n",
       "160153  grandson two bought go go smart wheels parents...   05 5, 2014   \n",
       "3036    almost year old really enjoys since makes easy...   01 8, 2006   \n",
       "\n",
       "        unixReviewTime  timeBin  \n",
       "103905      1357603200       16  \n",
       "42157       1356048000       15  \n",
       "160153      1399248000       17  \n",
       "3036        1136678400        9  "
      ]
     },
     "execution_count": 17,
     "metadata": {},
     "output_type": "execute_result"
    }
   ],
   "source": [
    "review_datas.sample(4)"
   ]
  },
  {
   "cell_type": "markdown",
   "metadata": {},
   "source": [
    "### 每个时间段的数据"
   ]
  },
  {
   "cell_type": "code",
   "execution_count": 18,
   "metadata": {},
   "outputs": [
    {
     "name": "stdout",
     "output_type": "stream",
     "text": [
      "1997  :  0\n",
      "1998  :  0\n",
      "1999  :  0\n",
      "2000  :  28\n",
      "2001  :  128\n",
      "2002  :  245\n",
      "2003  :  493\n",
      "2004  :  1031\n",
      "2005  :  2035\n",
      "2006  :  1172\n",
      "2007  :  1484\n",
      "2008  :  2820\n",
      "2009  :  3977\n",
      "2010  :  7381\n",
      "2011  :  14946\n",
      "2012  :  29815\n",
      "2013  :  64601\n",
      "2014  :  37441\n"
     ]
    }
   ],
   "source": [
    "for i in range(len(time_scope)-1):\n",
    "    print(time_scope[i],' : ',review_datas[review_datas['timeBin'] == i].shape[0])"
   ]
  },
  {
   "cell_type": "markdown",
   "metadata": {},
   "source": [
    "## 处理元数据"
   ]
  },
  {
   "cell_type": "code",
   "execution_count": 19,
   "metadata": {},
   "outputs": [],
   "source": [
    "meda_g = gzip.open('../data/meta_'+data_name+'.json.gz', 'r')"
   ]
  },
  {
   "cell_type": "code",
   "execution_count": 20,
   "metadata": {},
   "outputs": [],
   "source": [
    "rr = []\n",
    "for l in meda_g:\n",
    "    l = l.decode()[:-1]\n",
    "    try:\n",
    "        rr.append(eval(l))\n",
    "    except:\n",
    "        print(l.decode()[:-1].replace('\\'', '\\\"'))\n",
    "values = dict()\n",
    "ks = ['asin', 'categories']\n",
    "for k in ks:\n",
    "    values[k] = []\n",
    "for i in range(len(rr)):\n",
    "    try:\n",
    "        for k in ks:\n",
    "            values[k].append(rr[i][k])\n",
    "    except:\n",
    "        print(rr[i])"
   ]
  },
  {
   "cell_type": "code",
   "execution_count": 21,
   "metadata": {},
   "outputs": [],
   "source": [
    "meta_datas = pd.DataFrame(values)\n",
    "meta_datas.set_index('asin', inplace=True)"
   ]
  },
  {
   "cell_type": "code",
   "execution_count": 22,
   "metadata": {},
   "outputs": [
    {
     "data": {
      "text/plain": [
       "336072"
      ]
     },
     "execution_count": 22,
     "metadata": {},
     "output_type": "execute_result"
    }
   ],
   "source": [
    " len(meta_datas)"
   ]
  },
  {
   "cell_type": "code",
   "execution_count": 23,
   "metadata": {},
   "outputs": [
    {
     "data": {
      "text/html": [
       "<div>\n",
       "<style scoped>\n",
       "    .dataframe tbody tr th:only-of-type {\n",
       "        vertical-align: middle;\n",
       "    }\n",
       "\n",
       "    .dataframe tbody tr th {\n",
       "        vertical-align: top;\n",
       "    }\n",
       "\n",
       "    .dataframe thead th {\n",
       "        text-align: right;\n",
       "    }\n",
       "</style>\n",
       "<table border=\"1\" class=\"dataframe\">\n",
       "  <thead>\n",
       "    <tr style=\"text-align: right;\">\n",
       "      <th></th>\n",
       "      <th>categories</th>\n",
       "    </tr>\n",
       "    <tr>\n",
       "      <th>asin</th>\n",
       "      <th></th>\n",
       "    </tr>\n",
       "  </thead>\n",
       "  <tbody>\n",
       "    <tr>\n",
       "      <th>B002UKQS7C</th>\n",
       "      <td>[[Toys &amp; Games, Electronics for Kids, Electron...</td>\n",
       "    </tr>\n",
       "    <tr>\n",
       "      <th>B0046W1CBE</th>\n",
       "      <td>[[Toys &amp; Games, Dolls &amp; Accessories, Doll Acce...</td>\n",
       "    </tr>\n",
       "    <tr>\n",
       "      <th>B002B2YH8Q</th>\n",
       "      <td>[[Toys &amp; Games, Games, Trading Card Games, Sin...</td>\n",
       "    </tr>\n",
       "  </tbody>\n",
       "</table>\n",
       "</div>"
      ],
      "text/plain": [
       "                                                   categories\n",
       "asin                                                         \n",
       "B002UKQS7C  [[Toys & Games, Electronics for Kids, Electron...\n",
       "B0046W1CBE  [[Toys & Games, Dolls & Accessories, Doll Acce...\n",
       "B002B2YH8Q  [[Toys & Games, Games, Trading Card Games, Sin..."
      ]
     },
     "execution_count": 23,
     "metadata": {},
     "output_type": "execute_result"
    }
   ],
   "source": [
    "meta_datas.sample(3)"
   ]
  },
  {
   "cell_type": "markdown",
   "metadata": {},
   "source": [
    "## 构造Query"
   ]
  },
  {
   "cell_type": "code",
   "execution_count": 24,
   "metadata": {},
   "outputs": [
    {
     "data": {
      "text/plain": [
       "['musical instruments fdsaf', 'fasd jghjh']"
      ]
     },
     "execution_count": 24,
     "metadata": {},
     "output_type": "execute_result"
    }
   ],
   "source": [
    "# ts = [['CDs & Vinyl', 'Classical', 'Chamber Music'], ['Musical Instruments', 'Instrument Accessories', 'General Accessories']]\n",
    "ts = [['Musical Instruments', 'fdsaf'], ['fasd', 'jghjh']]\n",
    "def get_query(x):\n",
    "    qs = list()\n",
    "    for sub_cat_list in x:\n",
    "        '''\n",
    "        依照原来的论文需要修改\n",
    "        '''\n",
    "        if (len(sub_cat_list) <= 1):\n",
    "            continue\n",
    "        qs.append(sub_cat_list)\n",
    "    '''\n",
    "    remove duplicate\n",
    "    '''\n",
    "    finalQs = []\n",
    "    \n",
    "    for q in qs:\n",
    "        \n",
    "        Q_words = ' '.join(q).lower().replace(' & ', ' ').replace(',', '').strip().split(' ')\n",
    "    #     words = set()\n",
    "    #     for i in range(len(q)-1, -1, -1):\n",
    "    #         if  (q[i] not in words):\n",
    "    #             finalQ = q[i] + \" \" + finalQ\n",
    "    #             words.add(q[i])\n",
    "        finalQ = ''\n",
    "        words = set()\n",
    "        for i in range(len(Q_words)-1, -1, -1):\n",
    "            if (Q_words[i] not in words):\n",
    "                finalQ = Q_words[i] + ' ' + finalQ\n",
    "                words.add(Q_words[i])\n",
    "        finalQs.append( finalQ.strip())\n",
    "    return finalQs\n",
    "\n",
    "\n",
    "get_query(ts)"
   ]
  },
  {
   "cell_type": "code",
   "execution_count": 25,
   "metadata": {},
   "outputs": [],
   "source": [
    "meta_datas['query'] = meta_datas['categories'].map(get_query)"
   ]
  },
  {
   "cell_type": "code",
   "execution_count": null,
   "metadata": {},
   "outputs": [],
   "source": []
  },
  {
   "cell_type": "code",
   "execution_count": 34,
   "metadata": {},
   "outputs": [
    {
     "data": {
      "text/html": [
       "<div>\n",
       "<style scoped>\n",
       "    .dataframe tbody tr th:only-of-type {\n",
       "        vertical-align: middle;\n",
       "    }\n",
       "\n",
       "    .dataframe tbody tr th {\n",
       "        vertical-align: top;\n",
       "    }\n",
       "\n",
       "    .dataframe thead th {\n",
       "        text-align: right;\n",
       "    }\n",
       "</style>\n",
       "<table border=\"1\" class=\"dataframe\">\n",
       "  <thead>\n",
       "    <tr style=\"text-align: right;\">\n",
       "      <th></th>\n",
       "      <th>categories</th>\n",
       "      <th>query</th>\n",
       "    </tr>\n",
       "    <tr>\n",
       "      <th>asin</th>\n",
       "      <th></th>\n",
       "      <th></th>\n",
       "    </tr>\n",
       "  </thead>\n",
       "  <tbody>\n",
       "    <tr>\n",
       "      <th>0000191639</th>\n",
       "      <td>[[Toys &amp; Games, Puzzles, Jigsaw Puzzles]]</td>\n",
       "      <td>[toys games jigsaw puzzles]</td>\n",
       "    </tr>\n",
       "    <tr>\n",
       "      <th>0005069491</th>\n",
       "      <td>[[Toys &amp; Games]]</td>\n",
       "      <td>[]</td>\n",
       "    </tr>\n",
       "    <tr>\n",
       "      <th>0076561046</th>\n",
       "      <td>[[Toys &amp; Games, Learning &amp; Education, Flash Ca...</td>\n",
       "      <td>[toys games learning education flash cards]</td>\n",
       "    </tr>\n",
       "    <tr>\n",
       "      <th>0131358936</th>\n",
       "      <td>[[Toys &amp; Games, Learning &amp; Education, Mathemat...</td>\n",
       "      <td>[toys games learning education mathematics cou...</td>\n",
       "    </tr>\n",
       "    <tr>\n",
       "      <th>0133642984</th>\n",
       "      <td>[[Toys &amp; Games, Learning &amp; Education, Mathemat...</td>\n",
       "      <td>[toys games learning education mathematics cou...</td>\n",
       "    </tr>\n",
       "    <tr>\n",
       "      <th>0279515766</th>\n",
       "      <td>[[Toys &amp; Games, Dolls &amp; Accessories, Dolls]]</td>\n",
       "      <td>[toys games accessories dolls]</td>\n",
       "    </tr>\n",
       "    <tr>\n",
       "      <th>0375829695</th>\n",
       "      <td>[[Toys &amp; Games, Puzzles, Jigsaw Puzzles]]</td>\n",
       "      <td>[toys games jigsaw puzzles]</td>\n",
       "    </tr>\n",
       "    <tr>\n",
       "      <th>037585746X</th>\n",
       "      <td>[[Toys &amp; Games, Arts &amp; Crafts, Drawing &amp; Paint...</td>\n",
       "      <td>[toys games arts crafts painting supplies draw...</td>\n",
       "    </tr>\n",
       "    <tr>\n",
       "      <th>0425066169</th>\n",
       "      <td>[[Toys &amp; Games, Games, Board Games]]</td>\n",
       "      <td>[toys board games]</td>\n",
       "    </tr>\n",
       "    <tr>\n",
       "      <th>0439028485</th>\n",
       "      <td>[[Toys &amp; Games, Learning &amp; Education, Early De...</td>\n",
       "      <td>[games learning education early development to...</td>\n",
       "    </tr>\n",
       "    <tr>\n",
       "      <th>0439400066</th>\n",
       "      <td>[[Toys &amp; Games, Puzzles, 3-D Puzzles]]</td>\n",
       "      <td>[toys games 3-d puzzles]</td>\n",
       "    </tr>\n",
       "    <tr>\n",
       "      <th>0439512050</th>\n",
       "      <td>[[Toys &amp; Games, Stuffed Animals &amp; Plush, Puppe...</td>\n",
       "      <td>[toys games stuffed animals plush hand puppets]</td>\n",
       "    </tr>\n",
       "    <tr>\n",
       "      <th>0439651859</th>\n",
       "      <td>[[Toys &amp; Games, Learning &amp; Education, Flash Ca...</td>\n",
       "      <td>[toys games learning education flash cards]</td>\n",
       "    </tr>\n",
       "    <tr>\n",
       "      <th>0439652472</th>\n",
       "      <td>[[Toys &amp; Games, Party Supplies]]</td>\n",
       "      <td>[toys games party supplies]</td>\n",
       "    </tr>\n",
       "    <tr>\n",
       "      <th>0439710324</th>\n",
       "      <td>[[Toys &amp; Games, Stuffed Animals &amp; Plush, Anima...</td>\n",
       "      <td>[toys games stuffed plush animals figures]</td>\n",
       "    </tr>\n",
       "    <tr>\n",
       "      <th>0439845297</th>\n",
       "      <td>[[Toys &amp; Games, Puzzles, 3-D Puzzles]]</td>\n",
       "      <td>[toys games 3-d puzzles]</td>\n",
       "    </tr>\n",
       "    <tr>\n",
       "      <th>0439838649</th>\n",
       "      <td>[[Toys &amp; Games, Learning &amp; Education]]</td>\n",
       "      <td>[toys games learning education]</td>\n",
       "    </tr>\n",
       "    <tr>\n",
       "      <th>0439843073</th>\n",
       "      <td>[[Toys &amp; Games, Stuffed Animals &amp; Plush, Anima...</td>\n",
       "      <td>[toys games stuffed plush animals figures]</td>\n",
       "    </tr>\n",
       "    <tr>\n",
       "      <th>0439855896</th>\n",
       "      <td>[[Toys &amp; Games, Novelty &amp; Gag Toys, Magic Kits...</td>\n",
       "      <td>[games novelty gag toys magic kits accessories]</td>\n",
       "    </tr>\n",
       "    <tr>\n",
       "      <th>0439893577</th>\n",
       "      <td>[[Toys &amp; Games, Dress Up &amp; Pretend Play, Prete...</td>\n",
       "      <td>[toys games dress up pretend play magnet felt ...</td>\n",
       "    </tr>\n",
       "    <tr>\n",
       "      <th>0439927277</th>\n",
       "      <td>[[Toys &amp; Games, Stuffed Animals &amp; Plush, Puppe...</td>\n",
       "      <td>[toys games stuffed animals plush hand puppets]</td>\n",
       "    </tr>\n",
       "    <tr>\n",
       "      <th>0448447088</th>\n",
       "      <td>[[Toys &amp; Games, Stuffed Animals &amp; Plush, Anima...</td>\n",
       "      <td>[toys games stuffed plush animals figures]</td>\n",
       "    </tr>\n",
       "    <tr>\n",
       "      <th>0470182318</th>\n",
       "      <td>[[Toys &amp; Games, Arts &amp; Crafts, Drawing &amp; Paint...</td>\n",
       "      <td>[toys games arts crafts drawing painting suppl...</td>\n",
       "    </tr>\n",
       "    <tr>\n",
       "      <th>0486430502</th>\n",
       "      <td>[[Toys &amp; Games, Arts &amp; Crafts, Drawing &amp; Paint...</td>\n",
       "      <td>[toys games arts crafts painting supplies draw...</td>\n",
       "    </tr>\n",
       "    <tr>\n",
       "      <th>048645195X</th>\n",
       "      <td>[[Toys &amp; Games, Arts &amp; Crafts, Drawing &amp; Paint...</td>\n",
       "      <td>[toys games arts crafts painting supplies draw...</td>\n",
       "    </tr>\n",
       "    <tr>\n",
       "      <th>054503180X</th>\n",
       "      <td>[[Toys &amp; Games]]</td>\n",
       "      <td>[]</td>\n",
       "    </tr>\n",
       "    <tr>\n",
       "      <th>0545020832</th>\n",
       "      <td>[[Toys &amp; Games, Electronics for Kids, Systems ...</td>\n",
       "      <td>[toys games electronics for kids systems acces...</td>\n",
       "    </tr>\n",
       "    <tr>\n",
       "      <th>0545016258</th>\n",
       "      <td>[[Toys &amp; Games, Electronics for Kids, Electron...</td>\n",
       "      <td>[games electronics for kids electronic toys]</td>\n",
       "    </tr>\n",
       "    <tr>\n",
       "      <th>0545056551</th>\n",
       "      <td>[[Toys &amp; Games, Stuffed Animals &amp; Plush, Anima...</td>\n",
       "      <td>[toys games stuffed plush animals figures]</td>\n",
       "    </tr>\n",
       "    <tr>\n",
       "      <th>0545090954</th>\n",
       "      <td>[[Toys &amp; Games]]</td>\n",
       "      <td>[]</td>\n",
       "    </tr>\n",
       "    <tr>\n",
       "      <th>...</th>\n",
       "      <td>...</td>\n",
       "      <td>...</td>\n",
       "    </tr>\n",
       "    <tr>\n",
       "      <th>B00LBO87YA</th>\n",
       "      <td>[[Toys &amp; Games, Building Toys, Building Sets]]</td>\n",
       "      <td>[games toys building sets]</td>\n",
       "    </tr>\n",
       "    <tr>\n",
       "      <th>B00LC80022</th>\n",
       "      <td>[[Toys &amp; Games, Stuffed Animals &amp; Plush, Plush...</td>\n",
       "      <td>[toys games stuffed animals plush backpacks pu...</td>\n",
       "    </tr>\n",
       "    <tr>\n",
       "      <th>B00LCY0QAW</th>\n",
       "      <td>[[Toys &amp; Games, Sports &amp; Outdoor Play, Slumber...</td>\n",
       "      <td>[toys games sports outdoor play slumber bags]</td>\n",
       "    </tr>\n",
       "    <tr>\n",
       "      <th>B00LDBK9U6</th>\n",
       "      <td>[[Toys &amp; Games, Action Figures &amp; Statues, Acti...</td>\n",
       "      <td>[toys games statues action figures]</td>\n",
       "    </tr>\n",
       "    <tr>\n",
       "      <th>B00LDDXY4C</th>\n",
       "      <td>[[Toys &amp; Games, Novelty &amp; Gag Toys, Toy Balls]]</td>\n",
       "      <td>[games novelty gag toys toy balls]</td>\n",
       "    </tr>\n",
       "    <tr>\n",
       "      <th>B00LE4UKXI</th>\n",
       "      <td>[[Toys &amp; Games, Hobbies, RC Vehicles &amp; Parts, ...</td>\n",
       "      <td>[toys games hobbies vehicles rc parts power pl...</td>\n",
       "    </tr>\n",
       "    <tr>\n",
       "      <th>B00LERLZ4S</th>\n",
       "      <td>[[Toys &amp; Games, Games, Trading Card Games, Sin...</td>\n",
       "      <td>[toys trading card games single cards]</td>\n",
       "    </tr>\n",
       "    <tr>\n",
       "      <th>B00LF06ITQ</th>\n",
       "      <td>[[Toys &amp; Games, Building Toys, Building Sets]]</td>\n",
       "      <td>[games toys building sets]</td>\n",
       "    </tr>\n",
       "    <tr>\n",
       "      <th>B00LFWCDW0</th>\n",
       "      <td>[[Toys &amp; Games]]</td>\n",
       "      <td>[]</td>\n",
       "    </tr>\n",
       "    <tr>\n",
       "      <th>B00LG70OTS</th>\n",
       "      <td>[[Toys &amp; Games]]</td>\n",
       "      <td>[]</td>\n",
       "    </tr>\n",
       "    <tr>\n",
       "      <th>B00LGDEH8G</th>\n",
       "      <td>[[Toys &amp; Games, Sports &amp; Outdoor Play, Yo-yos]]</td>\n",
       "      <td>[toys games sports outdoor play yo-yos]</td>\n",
       "    </tr>\n",
       "    <tr>\n",
       "      <th>B00LGWRTUK</th>\n",
       "      <td>[[Toys &amp; Games, Puzzles, Jigsaw Puzzles]]</td>\n",
       "      <td>[toys games jigsaw puzzles]</td>\n",
       "    </tr>\n",
       "    <tr>\n",
       "      <th>B00LGR70QI</th>\n",
       "      <td>[[Toys &amp; Games, Action Figures &amp; Statues, Acti...</td>\n",
       "      <td>[toys games statues action figures]</td>\n",
       "    </tr>\n",
       "    <tr>\n",
       "      <th>B00LGTRJW6</th>\n",
       "      <td>[[Toys &amp; Games, Action Figures &amp; Statues, Acti...</td>\n",
       "      <td>[toys games statues action figures]</td>\n",
       "    </tr>\n",
       "    <tr>\n",
       "      <th>B00LGYO398</th>\n",
       "      <td>[[Toys &amp; Games, Games, Card Games]]</td>\n",
       "      <td>[toys card games]</td>\n",
       "    </tr>\n",
       "    <tr>\n",
       "      <th>B00LIURE7I</th>\n",
       "      <td>[[Toys &amp; Games]]</td>\n",
       "      <td>[]</td>\n",
       "    </tr>\n",
       "    <tr>\n",
       "      <th>B00LK1YMD4</th>\n",
       "      <td>[[Toys &amp; Games, Sports &amp; Outdoor Play, Bubbles]]</td>\n",
       "      <td>[toys games sports outdoor play bubbles]</td>\n",
       "    </tr>\n",
       "    <tr>\n",
       "      <th>B00LLH2BX0</th>\n",
       "      <td>[[Toys &amp; Games, Baby &amp; Toddler Toys, Blocks]]</td>\n",
       "      <td>[games baby toddler toys blocks]</td>\n",
       "    </tr>\n",
       "    <tr>\n",
       "      <th>B00LLS127A</th>\n",
       "      <td>[[Toys &amp; Games]]</td>\n",
       "      <td>[]</td>\n",
       "    </tr>\n",
       "    <tr>\n",
       "      <th>B00LMIWSD6</th>\n",
       "      <td>[[Toys &amp; Games, Arts &amp; Crafts, Craft Kits, Jew...</td>\n",
       "      <td>[toys games arts crafts craft kits jewelry]</td>\n",
       "    </tr>\n",
       "    <tr>\n",
       "      <th>B00LMITSTS</th>\n",
       "      <td>[[Toys &amp; Games, Hobbies, RC Vehicles &amp; Parts, ...</td>\n",
       "      <td>[toys games hobbies parts ground vehicles auto...</td>\n",
       "    </tr>\n",
       "    <tr>\n",
       "      <th>B00LMHYSVW</th>\n",
       "      <td>[[Toys &amp; Games, Stuffed Animals &amp; Plush, Anima...</td>\n",
       "      <td>[toys games stuffed plush animals figures]</td>\n",
       "    </tr>\n",
       "    <tr>\n",
       "      <th>B00LMQVTU6</th>\n",
       "      <td>[[Toys &amp; Games, Puzzles, 3-D Puzzles]]</td>\n",
       "      <td>[toys games 3-d puzzles]</td>\n",
       "    </tr>\n",
       "    <tr>\n",
       "      <th>B00LNH340W</th>\n",
       "      <td>[[Toys &amp; Games, Action Figures &amp; Statues, Acti...</td>\n",
       "      <td>[toys games statues action figures]</td>\n",
       "    </tr>\n",
       "    <tr>\n",
       "      <th>B00LNO8C1Q</th>\n",
       "      <td>[[Toys &amp; Games, Games, Trading Card Games, Sin...</td>\n",
       "      <td>[toys trading card games single cards]</td>\n",
       "    </tr>\n",
       "    <tr>\n",
       "      <th>B00LOYLHOE</th>\n",
       "      <td>[[Toys &amp; Games, Hobbies, RC Vehicles &amp; Parts, ...</td>\n",
       "      <td>[toys games hobbies parts vehicles rc aircraft]</td>\n",
       "    </tr>\n",
       "    <tr>\n",
       "      <th>B00LRXEK4G</th>\n",
       "      <td>[[Toys &amp; Games, Dolls &amp; Accessories, Dolls]]</td>\n",
       "      <td>[toys games accessories dolls]</td>\n",
       "    </tr>\n",
       "    <tr>\n",
       "      <th>B00LV83AMU</th>\n",
       "      <td>[[Toys &amp; Games]]</td>\n",
       "      <td>[]</td>\n",
       "    </tr>\n",
       "    <tr>\n",
       "      <th>B00LXACM5W</th>\n",
       "      <td>[[Toys &amp; Games, Sports &amp; Outdoor Play, Pools &amp;...</td>\n",
       "      <td>[toys games sports outdoor play pools fun wate...</td>\n",
       "    </tr>\n",
       "    <tr>\n",
       "      <th>B00M0TTT5Q</th>\n",
       "      <td>[[Toys &amp; Games, Grown-Up Toys]]</td>\n",
       "      <td>[games grown-up toys]</td>\n",
       "    </tr>\n",
       "  </tbody>\n",
       "</table>\n",
       "<p>336072 rows × 2 columns</p>\n",
       "</div>"
      ],
      "text/plain": [
       "                                                   categories  \\\n",
       "asin                                                            \n",
       "0000191639          [[Toys & Games, Puzzles, Jigsaw Puzzles]]   \n",
       "0005069491                                   [[Toys & Games]]   \n",
       "0076561046  [[Toys & Games, Learning & Education, Flash Ca...   \n",
       "0131358936  [[Toys & Games, Learning & Education, Mathemat...   \n",
       "0133642984  [[Toys & Games, Learning & Education, Mathemat...   \n",
       "0279515766       [[Toys & Games, Dolls & Accessories, Dolls]]   \n",
       "0375829695          [[Toys & Games, Puzzles, Jigsaw Puzzles]]   \n",
       "037585746X  [[Toys & Games, Arts & Crafts, Drawing & Paint...   \n",
       "0425066169               [[Toys & Games, Games, Board Games]]   \n",
       "0439028485  [[Toys & Games, Learning & Education, Early De...   \n",
       "0439400066             [[Toys & Games, Puzzles, 3-D Puzzles]]   \n",
       "0439512050  [[Toys & Games, Stuffed Animals & Plush, Puppe...   \n",
       "0439651859  [[Toys & Games, Learning & Education, Flash Ca...   \n",
       "0439652472                   [[Toys & Games, Party Supplies]]   \n",
       "0439710324  [[Toys & Games, Stuffed Animals & Plush, Anima...   \n",
       "0439845297             [[Toys & Games, Puzzles, 3-D Puzzles]]   \n",
       "0439838649             [[Toys & Games, Learning & Education]]   \n",
       "0439843073  [[Toys & Games, Stuffed Animals & Plush, Anima...   \n",
       "0439855896  [[Toys & Games, Novelty & Gag Toys, Magic Kits...   \n",
       "0439893577  [[Toys & Games, Dress Up & Pretend Play, Prete...   \n",
       "0439927277  [[Toys & Games, Stuffed Animals & Plush, Puppe...   \n",
       "0448447088  [[Toys & Games, Stuffed Animals & Plush, Anima...   \n",
       "0470182318  [[Toys & Games, Arts & Crafts, Drawing & Paint...   \n",
       "0486430502  [[Toys & Games, Arts & Crafts, Drawing & Paint...   \n",
       "048645195X  [[Toys & Games, Arts & Crafts, Drawing & Paint...   \n",
       "054503180X                                   [[Toys & Games]]   \n",
       "0545020832  [[Toys & Games, Electronics for Kids, Systems ...   \n",
       "0545016258  [[Toys & Games, Electronics for Kids, Electron...   \n",
       "0545056551  [[Toys & Games, Stuffed Animals & Plush, Anima...   \n",
       "0545090954                                   [[Toys & Games]]   \n",
       "...                                                       ...   \n",
       "B00LBO87YA     [[Toys & Games, Building Toys, Building Sets]]   \n",
       "B00LC80022  [[Toys & Games, Stuffed Animals & Plush, Plush...   \n",
       "B00LCY0QAW  [[Toys & Games, Sports & Outdoor Play, Slumber...   \n",
       "B00LDBK9U6  [[Toys & Games, Action Figures & Statues, Acti...   \n",
       "B00LDDXY4C    [[Toys & Games, Novelty & Gag Toys, Toy Balls]]   \n",
       "B00LE4UKXI  [[Toys & Games, Hobbies, RC Vehicles & Parts, ...   \n",
       "B00LERLZ4S  [[Toys & Games, Games, Trading Card Games, Sin...   \n",
       "B00LF06ITQ     [[Toys & Games, Building Toys, Building Sets]]   \n",
       "B00LFWCDW0                                   [[Toys & Games]]   \n",
       "B00LG70OTS                                   [[Toys & Games]]   \n",
       "B00LGDEH8G    [[Toys & Games, Sports & Outdoor Play, Yo-yos]]   \n",
       "B00LGWRTUK          [[Toys & Games, Puzzles, Jigsaw Puzzles]]   \n",
       "B00LGR70QI  [[Toys & Games, Action Figures & Statues, Acti...   \n",
       "B00LGTRJW6  [[Toys & Games, Action Figures & Statues, Acti...   \n",
       "B00LGYO398                [[Toys & Games, Games, Card Games]]   \n",
       "B00LIURE7I                                   [[Toys & Games]]   \n",
       "B00LK1YMD4   [[Toys & Games, Sports & Outdoor Play, Bubbles]]   \n",
       "B00LLH2BX0      [[Toys & Games, Baby & Toddler Toys, Blocks]]   \n",
       "B00LLS127A                                   [[Toys & Games]]   \n",
       "B00LMIWSD6  [[Toys & Games, Arts & Crafts, Craft Kits, Jew...   \n",
       "B00LMITSTS  [[Toys & Games, Hobbies, RC Vehicles & Parts, ...   \n",
       "B00LMHYSVW  [[Toys & Games, Stuffed Animals & Plush, Anima...   \n",
       "B00LMQVTU6             [[Toys & Games, Puzzles, 3-D Puzzles]]   \n",
       "B00LNH340W  [[Toys & Games, Action Figures & Statues, Acti...   \n",
       "B00LNO8C1Q  [[Toys & Games, Games, Trading Card Games, Sin...   \n",
       "B00LOYLHOE  [[Toys & Games, Hobbies, RC Vehicles & Parts, ...   \n",
       "B00LRXEK4G       [[Toys & Games, Dolls & Accessories, Dolls]]   \n",
       "B00LV83AMU                                   [[Toys & Games]]   \n",
       "B00LXACM5W  [[Toys & Games, Sports & Outdoor Play, Pools &...   \n",
       "B00M0TTT5Q                    [[Toys & Games, Grown-Up Toys]]   \n",
       "\n",
       "                                                        query  \n",
       "asin                                                           \n",
       "0000191639                        [toys games jigsaw puzzles]  \n",
       "0005069491                                                 []  \n",
       "0076561046        [toys games learning education flash cards]  \n",
       "0131358936  [toys games learning education mathematics cou...  \n",
       "0133642984  [toys games learning education mathematics cou...  \n",
       "0279515766                     [toys games accessories dolls]  \n",
       "0375829695                        [toys games jigsaw puzzles]  \n",
       "037585746X  [toys games arts crafts painting supplies draw...  \n",
       "0425066169                                 [toys board games]  \n",
       "0439028485  [games learning education early development to...  \n",
       "0439400066                           [toys games 3-d puzzles]  \n",
       "0439512050    [toys games stuffed animals plush hand puppets]  \n",
       "0439651859        [toys games learning education flash cards]  \n",
       "0439652472                        [toys games party supplies]  \n",
       "0439710324         [toys games stuffed plush animals figures]  \n",
       "0439845297                           [toys games 3-d puzzles]  \n",
       "0439838649                    [toys games learning education]  \n",
       "0439843073         [toys games stuffed plush animals figures]  \n",
       "0439855896    [games novelty gag toys magic kits accessories]  \n",
       "0439893577  [toys games dress up pretend play magnet felt ...  \n",
       "0439927277    [toys games stuffed animals plush hand puppets]  \n",
       "0448447088         [toys games stuffed plush animals figures]  \n",
       "0470182318  [toys games arts crafts drawing painting suppl...  \n",
       "0486430502  [toys games arts crafts painting supplies draw...  \n",
       "048645195X  [toys games arts crafts painting supplies draw...  \n",
       "054503180X                                                 []  \n",
       "0545020832  [toys games electronics for kids systems acces...  \n",
       "0545016258       [games electronics for kids electronic toys]  \n",
       "0545056551         [toys games stuffed plush animals figures]  \n",
       "0545090954                                                 []  \n",
       "...                                                       ...  \n",
       "B00LBO87YA                         [games toys building sets]  \n",
       "B00LC80022  [toys games stuffed animals plush backpacks pu...  \n",
       "B00LCY0QAW      [toys games sports outdoor play slumber bags]  \n",
       "B00LDBK9U6                [toys games statues action figures]  \n",
       "B00LDDXY4C                 [games novelty gag toys toy balls]  \n",
       "B00LE4UKXI  [toys games hobbies vehicles rc parts power pl...  \n",
       "B00LERLZ4S             [toys trading card games single cards]  \n",
       "B00LF06ITQ                         [games toys building sets]  \n",
       "B00LFWCDW0                                                 []  \n",
       "B00LG70OTS                                                 []  \n",
       "B00LGDEH8G            [toys games sports outdoor play yo-yos]  \n",
       "B00LGWRTUK                        [toys games jigsaw puzzles]  \n",
       "B00LGR70QI                [toys games statues action figures]  \n",
       "B00LGTRJW6                [toys games statues action figures]  \n",
       "B00LGYO398                                  [toys card games]  \n",
       "B00LIURE7I                                                 []  \n",
       "B00LK1YMD4           [toys games sports outdoor play bubbles]  \n",
       "B00LLH2BX0                   [games baby toddler toys blocks]  \n",
       "B00LLS127A                                                 []  \n",
       "B00LMIWSD6        [toys games arts crafts craft kits jewelry]  \n",
       "B00LMITSTS  [toys games hobbies parts ground vehicles auto...  \n",
       "B00LMHYSVW         [toys games stuffed plush animals figures]  \n",
       "B00LMQVTU6                           [toys games 3-d puzzles]  \n",
       "B00LNH340W                [toys games statues action figures]  \n",
       "B00LNO8C1Q             [toys trading card games single cards]  \n",
       "B00LOYLHOE    [toys games hobbies parts vehicles rc aircraft]  \n",
       "B00LRXEK4G                     [toys games accessories dolls]  \n",
       "B00LV83AMU                                                 []  \n",
       "B00LXACM5W  [toys games sports outdoor play pools fun wate...  \n",
       "B00M0TTT5Q                              [games grown-up toys]  \n",
       "\n",
       "[336072 rows x 2 columns]"
      ]
     },
     "execution_count": 34,
     "metadata": {},
     "output_type": "execute_result"
    }
   ],
   "source": [
    "meta_datas"
   ]
  },
  {
   "cell_type": "code",
   "execution_count": 18,
   "metadata": {},
   "outputs": [],
   "source": [
    "import pickle\n",
    "data_name = 'Electronics'\n",
    "with open('../input_data/meta_datas_time_bin_word'+data_name+'.bin', 'rb+') as f:\n",
    "    meta_datas = pickle.load(f)"
   ]
  },
  {
   "cell_type": "code",
   "execution_count": 24,
   "metadata": {},
   "outputs": [
    {
     "data": {
      "text/plain": [
       "([['Electronics', 'Camera & Photo', 'Bags & Cases', 'Lens Cases']],\n",
       " ['electronics camera photo bags lens cases'])"
      ]
     },
     "execution_count": 24,
     "metadata": {},
     "output_type": "execute_result"
    }
   ],
   "source": [
    "tt = meta_datas.sample(10)\n",
    "tt.iloc[0][0], tt.iloc[0][1]"
   ]
  },
  {
   "cell_type": "code",
   "execution_count": null,
   "metadata": {},
   "outputs": [],
   "source": []
  },
  {
   "cell_type": "code",
   "execution_count": null,
   "metadata": {},
   "outputs": [],
   "source": []
  },
  {
   "cell_type": "code",
   "execution_count": null,
   "metadata": {},
   "outputs": [],
   "source": []
  },
  {
   "cell_type": "code",
   "execution_count": null,
   "metadata": {},
   "outputs": [],
   "source": [
    "'''\n",
    "记录最大的query length\n",
    "'''\n",
    "q_lens = []\n",
    "for i in meta_datas['query']:\n",
    "    for q in i:\n",
    "        q_lens.append(len(q.split(' ')))\n",
    "max_query_len = max(q_lens)\n",
    "max_query_len"
   ]
  },
  {
   "cell_type": "markdown",
   "metadata": {},
   "source": [
    "### 保存数据"
   ]
  },
  {
   "cell_type": "code",
   "execution_count": null,
   "metadata": {},
   "outputs": [],
   "source": [
    "import pickle\n",
    "'''\n",
    "保存文件\n",
    "'''\n",
    "with open('../input_data/review_datas_time_bin_word'+data_name+'.bin', 'wb+') as f:\n",
    "    pickle.dump(review_datas,f)\n",
    "with open('../input_data/temporal_datas_time_bin_word'+data_name+'.bin', 'wb+') as f:\n",
    "    pickle.dump(temporal_datas,f)\n",
    "with open('../input_data/meta_datas_time_bin_word'+data_name+'.bin', 'wb+') as f:\n",
    "    pickle.dump(meta_datas,f)"
   ]
  },
  {
   "cell_type": "code",
   "execution_count": null,
   "metadata": {},
   "outputs": [],
   "source": [
    "review_datas.sample(3)"
   ]
  },
  {
   "cell_type": "code",
   "execution_count": null,
   "metadata": {},
   "outputs": [],
   "source": [
    "for i in range(len(meta_datas)):\n",
    "    if (len(meta_datas.iloc[i]['query']) > 4):\n",
    "        print(meta_datas.iloc[i]['query'])\n",
    "        break\n"
   ]
  },
  {
   "cell_type": "code",
   "execution_count": null,
   "metadata": {},
   "outputs": [],
   "source": [
    "meta_datas.head(2)"
   ]
  },
  {
   "cell_type": "markdown",
   "metadata": {},
   "source": [
    "### 构造train batch"
   ]
  },
  {
   "cell_type": "code",
   "execution_count": null,
   "metadata": {},
   "outputs": [],
   "source": [
    "from torch.utils.data import DataLoader, Dataset"
   ]
  },
  {
   "cell_type": "code",
   "execution_count": null,
   "metadata": {},
   "outputs": [],
   "source": [
    "class MyData(Dataset):\n",
    "    def __init__(self, reviewData, metaData, neg_sample_num, max_query_len, max_review_len, time_num, weights = True):\n",
    "        \n",
    "        \n",
    "        self.id2user = dict()\n",
    "        self.user2id = dict()\n",
    "        \n",
    "        self.id2product = dict()\n",
    "        self.product2id = dict()\n",
    "        \n",
    "        self.product2query = dict()\n",
    "        \n",
    "        # query\n",
    "        self.word2id = dict()\n",
    "        self.id2word = dict()\n",
    "        \n",
    "        \n",
    "#         self.userText = dict()\n",
    "        \n",
    "        self.userReviews = dict()\n",
    "        self.userReviewsCount = dict()\n",
    "        self.userReviewsCounter = dict()\n",
    "        self.userReviewsTest = dict()\n",
    "        \n",
    "        \n",
    "        self.nes_weight = []\n",
    "        self.word_weight = []\n",
    "        self.max_review_len = max_review_len\n",
    "        self.max_query_len = max_query_len\n",
    "        self.neg_sample_num = neg_sample_num\n",
    "        \n",
    "        self.time_num = time_num\n",
    "        self.time_data = []\n",
    "        \n",
    "        self.init_dict(reviewData, metaData)\n",
    "        \n",
    "\n",
    "        self.train_data = []\n",
    "        self.test_data = []\n",
    "        self.eval_data = []\n",
    "\n",
    "        self.init_dataset(reviewData, weights)\n",
    "        self.init_sample_table()\n",
    "    def init_dict(self, reviewData, metaData):\n",
    "        for i in range(self.time_num):\n",
    "            self.time_data.append([])\n",
    "        \n",
    "        uid = 0\n",
    "        us = set(reviewData['reviewerID'])\n",
    "        pr = set()\n",
    "        words = set()\n",
    "        for u in us:\n",
    "            # 只有两个购买记录 不够验证和测试\n",
    "            asins = list(reviewData[reviewData['reviewerID'] == u]['asin'])\n",
    "            if (len(asins) <= 2):\n",
    "                continue\n",
    "\n",
    "            self.id2user[uid] = u\n",
    "            self.user2id[u] = uid\n",
    "\n",
    "            # 得到每个用户购买物品记录\n",
    "            pr.update(asins)\n",
    "            self.userReviews[uid] = asins\n",
    "            #　最后一个购买的物品做测试集\n",
    "            self.userReviewsTest[uid] = asins[-1]\n",
    "            words.update(set(' '.join(list(review_datas[review_datas['reviewerID'] == u]['reviewText'])).split()))\n",
    "#             reviewTexts += list(reviewData[reviewData['reviewerID'] == u]['reviewText'])\n",
    "            uid += 1\n",
    "            if uid % 100 == 0:\n",
    "                with open (r'out.txt','a+') as ff:\n",
    "                    ff.write(str(len(us))+' uid: '+str(uid)+'\\n')\n",
    "        self.userNum = uid\n",
    "        \n",
    "        pid = 0\n",
    "#         words = set()\n",
    "        for p in pr:\n",
    "            if pid % 300 == 0:\n",
    "                with open (r'out.txt','a+') as ff:\n",
    "                    ff.write(str(len(pr)) + ' pid:'+str(pid)+'\\n')\n",
    "            try:\n",
    "                '''\n",
    "                判断这个product是否有query\n",
    "                '''\n",
    "                if (len(metaData.loc[p]['query']) > 0):\n",
    "                    self.product2query[p] = metaData.loc[p]['query']\n",
    "                    words.update(' '.join(metaData.loc[p]['query']).split(' '))\n",
    "            except:\n",
    "                pass\n",
    "            self.id2product[pid] = p\n",
    "            self.product2id[p] = pid\n",
    "            pid += 1\n",
    "            \n",
    "        self.productNum = pid\n",
    "        self.nes_weight = np.zeros(self.productNum)\n",
    "        self.queryNum = len(self.product2query)\n",
    "        \n",
    "        wi = 0\n",
    "        self.word2id['<pad>'] = wi\n",
    "        self.id2word[wi] = '<pad>'\n",
    "        wi += 1\n",
    "        for w in words:\n",
    "            if(w==''):\n",
    "                continue\n",
    "            self.word2id[w] = wi\n",
    "            self.id2word[wi] = w\n",
    "            wi += 1\n",
    "        self.wordNum = wi\n",
    "        self.word_weight = np.zeros(wi)\n",
    "    def init_dataset(self, reviewData,weights=True):\n",
    "        try:\n",
    "            self.data_X = []\n",
    "            for r in range(len(reviewData)):\n",
    "                if r % 100 == 0:\n",
    "                    with open (r'out.txt','a+') as ff:\n",
    "                        ff.write(str(len(reviewData))+ ' review: '+str(r) + '\\n')\n",
    "                rc = reviewData.iloc[r]\n",
    "                try:\n",
    "                    uid = self.user2id[rc['reviewerID']]\n",
    "                    pid_pos = self.product2id[rc['asin']]\n",
    "                    time_bin_pos = int(rc['timeBin'])\n",
    "                except:\n",
    "                    # 这个user没有加入到字典，购买次数不到3次\n",
    "                    continue\n",
    "\n",
    "                text = rc['reviewText']\n",
    "\n",
    "                try:\n",
    "                    # 得到product的query数组\n",
    "                    q_text_array_pos = self.product2query[self.id2product[pid_pos]]\n",
    "                except:\n",
    "                    '''\n",
    "                    没有对应的query\n",
    "                    '''\n",
    "                    continue\n",
    "                try:\n",
    "                    text_ids, len_r= self.trans_to_ids(text, self.max_review_len)\n",
    "                    # 设置product的负采样频率\n",
    "                    self.nes_weight[pid_pos] += 1\n",
    "                except:\n",
    "                    continue\n",
    "                # 遍历每个物品的每个query 得到一个(u, p, q, r)元组\n",
    "                for qi in range(len(q_text_array_pos)):\n",
    "                    try:\n",
    "                        qids_pos, len_pos = self.trans_to_ids(q_text_array_pos[qi], self.max_query_len)\n",
    "                    except:\n",
    "                        break\n",
    "                    self.data_X.append((uid, pid_pos, qids_pos, len_pos, text_ids, len_r, time_bin_pos))\n",
    "                    try:\n",
    "                        self.userReviewsCount[uid] += 1\n",
    "                        self.userReviewsCounter[uid] += 1\n",
    "                    except:\n",
    "                        self.userReviewsCount[uid] = 1\n",
    "                        self.userReviewsCounter[uid] = 1\n",
    "\n",
    "\n",
    "            '''\n",
    "            数据集合划分 ---> 取每个用户购买过的item的最后一个\n",
    "            '''\n",
    "            for r in self.data_X:\n",
    "                # 只考虑有3个以上（uqi）三元组的user\n",
    "                if self.userReviewsCount[r[0]] > 2:\n",
    "                    t = self.userReviewsCounter[r[0]]\n",
    "                    if (t == 0):\n",
    "                        continue\n",
    "                    elif (t == 2): # 倒数第二个\n",
    "                        self.eval_data.append(r)\n",
    "                    elif (t == 1): # 倒数第一个\n",
    "                        self.test_data.append(r)\n",
    "                    else:\n",
    "                        self.train_data.append(r)\n",
    "                        self.time_data[r[6]].append(r)\n",
    "                    self.userReviewsCounter[r[0]] -= 1\n",
    "\n",
    "            if weights is not False:\n",
    "                wf = np.power(self.nes_weight, 0.75)\n",
    "                wf = wf / wf.sum()\n",
    "                self.weights = wf\n",
    "                wf = np.power(self.word_weight, 0.75)\n",
    "                wf = wf / wf.sum()\n",
    "                self.word_weight = wf\n",
    "        except e:\n",
    "            with open (r'out.txt','a+') as ff:\n",
    "                ff.write(str(e)+ '\\n')\n",
    "    def trans_to_ids(self, query, max_len, weight_cal = True):\n",
    "        query = query.split(' ')\n",
    "        qids = []\n",
    "        for w in query:\n",
    "            if w == '':\n",
    "                continue\n",
    "            qids.append(self.word2id[w])\n",
    "            # 需要统计词频\n",
    "            if weight_cal:\n",
    "                self.word_weight[self.word2id[w]-1] += 1\n",
    "        for _ in range(len(qids), max_len):\n",
    "            qids.append(self.word2id['<pad>'])\n",
    "        return qids, len(query)\n",
    "    \n",
    "    def neg_sample(self):\n",
    "        neg_item = []\n",
    "        neg_word = []\n",
    "        for ii in range(self.neg_sample_num):\n",
    "            neg_item.append(self.sample_table_item[np.random.randint(self.table_len_item)])\n",
    "            neg_word.append(self.sample_table_word[np.random.randint(self.table_len_word)])\n",
    "        return neg_item,neg_word\n",
    "    \n",
    "    def init_sample_table(self):\n",
    "        table_size = 1e6\n",
    "        count = np.round(self.weights*table_size)\n",
    "        self.sample_table_item = []\n",
    "        for idx, x in enumerate(count):\n",
    "            self.sample_table_item += [idx]*int(x)\n",
    "        self.table_len_item = len(self.sample_table_item)\n",
    "        \n",
    "        count = np.round(self.word_weight*table_size)\n",
    "        self.sample_table_word = []\n",
    "        for idx, x in enumerate(count):\n",
    "            self.sample_table_word += [idx]*int(x)\n",
    "        self.table_len_word = len(self.sample_table_word)\n",
    "    \n",
    "    def __getitem__(self, i):\n",
    "        pos = self.train_data[i]\n",
    "        neg = self.neg_sample()\n",
    "        \n",
    "        return pos, neg\n",
    "    def get_time_data(self, time_bin, i):\n",
    "        pos = self.time_data[time_bin][i]\n",
    "        neg = self.neg_sample()\n",
    "        return pos, neg\n",
    "    def getTestItem(self, i):\n",
    "        return self.test_data[i]\n",
    "    def __len__(self):\n",
    "        return len(self.train_data)"
   ]
  },
  {
   "cell_type": "code",
   "execution_count": null,
   "metadata": {},
   "outputs": [],
   "source": [
    "data_loader = MyData(review_datas, meta_datas, 5, max_query_len, max_review_len, len(temporal_datas), weights = True)"
   ]
  },
  {
   "cell_type": "code",
   "execution_count": null,
   "metadata": {},
   "outputs": [],
   "source": [
    "dl = DataLoader(data_loader, batch_size=5, shuffle=False, drop_last=False)"
   ]
  },
  {
   "cell_type": "code",
   "execution_count": null,
   "metadata": {},
   "outputs": [],
   "source": [
    "ii = iter(dl)"
   ]
  },
  {
   "cell_type": "code",
   "execution_count": null,
   "metadata": {},
   "outputs": [],
   "source": [
    "a = ii.next()"
   ]
  },
  {
   "cell_type": "code",
   "execution_count": null,
   "metadata": {},
   "outputs": [],
   "source": [
    "len(a)"
   ]
  },
  {
   "cell_type": "code",
   "execution_count": null,
   "metadata": {},
   "outputs": [],
   "source": [
    "len(a[0])"
   ]
  },
  {
   "cell_type": "code",
   "execution_count": null,
   "metadata": {},
   "outputs": [],
   "source": [
    "a[0][0]"
   ]
  },
  {
   "cell_type": "code",
   "execution_count": null,
   "metadata": {},
   "outputs": [],
   "source": [
    "# (uid, pid_pos, qids_pos, len_pos, text_ids, len_r, time_bin_pos)"
   ]
  },
  {
   "cell_type": "code",
   "execution_count": null,
   "metadata": {},
   "outputs": [],
   "source": [
    "a[0][6]"
   ]
  },
  {
   "cell_type": "code",
   "execution_count": null,
   "metadata": {},
   "outputs": [],
   "source": [
    "import pickle"
   ]
  },
  {
   "cell_type": "code",
   "execution_count": null,
   "metadata": {},
   "outputs": [],
   "source": [
    "with open('../input_data/dataset_time_'+data_name+'.bin', 'wb+') as f:\n",
    "    pickle.dump(data_loader,f)"
   ]
  },
  {
   "cell_type": "code",
   "execution_count": 49,
   "metadata": {},
   "outputs": [
    {
     "name": "stdout",
     "output_type": "stream",
     "text": [
      "192403\n"
     ]
    }
   ],
   "source": [
    "print(len(data_loader.test_data))"
   ]
  },
  {
   "cell_type": "code",
   "execution_count": 50,
   "metadata": {},
   "outputs": [
    {
     "name": "stdout",
     "output_type": "stream",
     "text": [
      "1421049\n"
     ]
    }
   ],
   "source": [
    "print(len(data_loader.train_data))"
   ]
  },
  {
   "cell_type": "code",
   "execution_count": 51,
   "metadata": {},
   "outputs": [
    {
     "name": "stdout",
     "output_type": "stream",
     "text": [
      "1805855\n"
     ]
    }
   ],
   "source": [
    "print(len(data_loader.data_X))"
   ]
  },
  {
   "cell_type": "code",
   "execution_count": 48,
   "metadata": {},
   "outputs": [
    {
     "data": {
      "text/plain": [
       "8822"
      ]
     },
     "execution_count": 48,
     "metadata": {},
     "output_type": "execute_result"
    }
   ],
   "source": [
    "1429+7393"
   ]
  },
  {
   "cell_type": "code",
   "execution_count": null,
   "metadata": {},
   "outputs": [],
   "source": []
  },
  {
   "cell_type": "code",
   "execution_count": null,
   "metadata": {},
   "outputs": [],
   "source": []
  },
  {
   "cell_type": "code",
   "execution_count": null,
   "metadata": {},
   "outputs": [],
   "source": []
  },
  {
   "cell_type": "code",
   "execution_count": null,
   "metadata": {},
   "outputs": [],
   "source": []
  },
  {
   "cell_type": "code",
   "execution_count": null,
   "metadata": {},
   "outputs": [],
   "source": []
  },
  {
   "cell_type": "code",
   "execution_count": null,
   "metadata": {},
   "outputs": [],
   "source": []
  },
  {
   "cell_type": "code",
   "execution_count": null,
   "metadata": {},
   "outputs": [],
   "source": []
  },
  {
   "cell_type": "code",
   "execution_count": null,
   "metadata": {},
   "outputs": [],
   "source": []
  },
  {
   "cell_type": "code",
   "execution_count": null,
   "metadata": {},
   "outputs": [],
   "source": []
  },
  {
   "cell_type": "code",
   "execution_count": null,
   "metadata": {},
   "outputs": [],
   "source": []
  }
 ],
 "metadata": {
  "kernelspec": {
   "display_name": "Python 3",
   "language": "python",
   "name": "python3"
  },
  "language_info": {
   "codemirror_mode": {
    "name": "ipython",
    "version": 3
   },
   "file_extension": ".py",
   "mimetype": "text/x-python",
   "name": "python",
   "nbconvert_exporter": "python",
   "pygments_lexer": "ipython3",
   "version": "3.7.3"
  }
 },
 "nbformat": 4,
 "nbformat_minor": 2
}
